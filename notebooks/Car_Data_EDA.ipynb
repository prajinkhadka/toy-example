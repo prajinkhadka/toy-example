{
  "nbformat": 4,
  "nbformat_minor": 0,
  "metadata": {
    "kernelspec": {
      "display_name": "Python 3",
      "language": "python",
      "name": "python3"
    },
    "language_info": {
      "name": "python",
      "version": "3.6.4",
      "mimetype": "text/x-python",
      "codemirror_mode": {
        "name": "ipython",
        "version": 3
      },
      "pygments_lexer": "ipython3",
      "nbconvert_exporter": "python",
      "file_extension": ".py"
    },
    "colab": {
      "name": "Car Data EDA.ipynb",
      "provenance": [],
      "collapsed_sections": [],
      "machine_shape": "hm",
      "include_colab_link": true
    }
  },
  "cells": [
    {
      "cell_type": "markdown",
      "metadata": {
        "id": "view-in-github",
        "colab_type": "text"
      },
      "source": [
        "<a href=\"https://colab.research.google.com/github/shhra/toy-example/blob/master/notebooks/Car_Data_EDA.ipynb\" target=\"_parent\"><img src=\"https://colab.research.google.com/assets/colab-badge.svg\" alt=\"Open In Colab\"/></a>"
      ]
    },
    {
      "cell_type": "code",
      "metadata": {
        "id": "ZSCEYlwgKm_H",
        "colab_type": "code",
        "outputId": "bd509134-ae7b-41b3-9f92-6f73a0e6a946",
        "colab": {
          "base_uri": "https://localhost:8080/",
          "height": 34
        }
      },
      "source": [
        "from google.colab import drive\n",
        "drive.mount('/content/drive')\n",
        "!cp /content/drive/My\\ Drive/ai/kaggle.json /content/kaggle.json\n",
        "!mkdir /root/.kaggle\n",
        "!mv kaggle.json /root/.kaggle/kaggle.json\n",
        "# !kaggle datasets download -d mirosval/personal-cars-classifieds\n",
        "# !unzip -q personal-cars-classifieds.zip"
      ],
      "execution_count": 7,
      "outputs": [
        {
          "output_type": "stream",
          "text": [
            "Drive already mounted at /content/drive; to attempt to forcibly remount, call drive.mount(\"/content/drive\", force_remount=True).\n"
          ],
          "name": "stdout"
        }
      ]
    },
    {
      "cell_type": "code",
      "metadata": {
        "id": "5h5QiWQ_Nakb",
        "colab_type": "code",
        "colab": {
          "base_uri": "https://localhost:8080/",
          "height": 69
        },
        "outputId": "fb836bef-2039-489a-9fbb-e05ad0741a27"
      },
      "source": [
        ""
      ],
      "execution_count": 8,
      "outputs": [
        {
          "output_type": "stream",
          "text": [
            "Downloading personal-cars-classifieds.zip to /content\n",
            "\r  0% 0.00/88.2M [00:00<?, ?B/s]\r  6% 5.00M/88.2M [00:00<00:07, 11.5MB/s]\r 19% 17.0M/88.2M [00:00<00:05, 14.8MB/s]\r 28% 25.0M/88.2M [00:00<00:03, 19.0MB/s]\r 51% 45.0M/88.2M [00:01<00:01, 26.1MB/s]\r 60% 53.0M/88.2M [00:01<00:01, 30.5MB/s]\r 68% 60.0M/88.2M [00:01<00:00, 31.6MB/s]\r 86% 76.0M/88.2M [00:01<00:00, 41.6MB/s]\r 96% 85.0M/88.2M [00:01<00:00, 47.9MB/s]\n",
            "\r100% 88.2M/88.2M [00:01<00:00, 55.4MB/s]\n"
          ],
          "name": "stdout"
        }
      ]
    },
    {
      "cell_type": "code",
      "metadata": {
        "_uuid": "8f2839f25d086af736a60e9eeb907d3b93b6e0e5",
        "_cell_guid": "b1076dfc-b9ad-4769-8c92-a6c4dae69d19",
        "trusted": true,
        "id": "ONG7VM7lNUpg",
        "colab_type": "code",
        "colab": {}
      },
      "source": [
        "import numpy as np # linear algebra\n",
        "import pandas as pd # data processing, CSV file I/O (e.g. pd.read_csv)\n",
        "import matplotlib.pyplot as plt\n",
        "import os"
      ],
      "execution_count": 0,
      "outputs": []
    },
    {
      "cell_type": "code",
      "metadata": {
        "_uuid": "d629ff2d2480ee46fbb7e2d37f6b5fab8052498a",
        "_cell_guid": "79c7e3d0-c299-4dcb-8224-4455121ee9b0",
        "trusted": true,
        "id": "WWBcWCo-NUpt",
        "colab_type": "code",
        "outputId": "fa606fae-3929-44ef-b077-c66efbb0c685",
        "colab": {
          "base_uri": "https://localhost:8080/",
          "height": 72
        }
      },
      "source": [
        "data = pd.read_csv(\"all_anonymized_2015_11_2017_03.csv\")"
      ],
      "execution_count": 0,
      "outputs": [
        {
          "output_type": "stream",
          "text": [
            "/usr/local/lib/python3.6/dist-packages/IPython/core/interactiveshell.py:2718: DtypeWarning: Columns (7,8,10,11,12) have mixed types.Specify dtype option on import or set low_memory=False.\n",
            "  interactivity=interactivity, compiler=compiler, result=result)\n"
          ],
          "name": "stderr"
        }
      ]
    },
    {
      "cell_type": "markdown",
      "metadata": {
        "id": "aTyt4pJsNUp5",
        "colab_type": "text"
      },
      "source": [
        "#### Lets see that we have got. \n",
        "We will use data.head() to see information about our data\n",
        "\n",
        "We will start by printing how many rows are there, then we will see the columns and their name"
      ]
    },
    {
      "cell_type": "code",
      "metadata": {
        "trusted": true,
        "id": "pAbWgceFNUp7",
        "colab_type": "code",
        "outputId": "6de7aa23-308b-470d-e8a9-be8cdf2fd6dd",
        "colab": {
          "base_uri": "https://localhost:8080/",
          "height": 330
        }
      },
      "source": [
        "print(f'There are {data.shape[0]} rows in this data set')\n",
        "print(f\"Each row of the data has following columns:\")\n",
        "for name in data.columns.values:\n",
        "    print(name)"
      ],
      "execution_count": 0,
      "outputs": [
        {
          "output_type": "stream",
          "text": [
            "There are 3552912 rows in this data set\n",
            "Each row of the data has following columns:\n",
            "maker\n",
            "model\n",
            "mileage\n",
            "manufacture_year\n",
            "engine_displacement\n",
            "engine_power\n",
            "body_type\n",
            "color_slug\n",
            "stk_year\n",
            "transmission\n",
            "door_count\n",
            "seat_count\n",
            "fuel_type\n",
            "date_created\n",
            "date_last_seen\n",
            "price_eur\n"
          ],
          "name": "stdout"
        }
      ]
    },
    {
      "cell_type": "markdown",
      "metadata": {
        "id": "uSUb4SF-NUqD",
        "colab_type": "text"
      },
      "source": [
        "## Before Diving In\n",
        "Let's see what the author has got to say about the data. \n",
        "\n",
        "    maker - normalized all lowercase\n",
        "    model - normalized all lowercase\n",
        "    mileage - in KM\n",
        "    manufacture_year\n",
        "    engine_displacement - in ccm\n",
        "    engine_power - in kW\n",
        "    body_type - almost never present, but I scraped only personal cars, no motorcycles or utility vehicles\n",
        "    color_slug - also almost never present\n",
        "    stk_year - year of the last emission control\n",
        "    transmission - automatic or manual\n",
        "    door_count\n",
        "    seat_count\n",
        "    fuel_type - gasoline, diesel, cng, lpg, electric\n",
        "    date_created - when the ad was scraped\n",
        "    datelastseen - when the ad was last seen. Our policy was to remove all ads older than 60 days\n",
        "    price_eur - list price converted to EUR\n",
        "\n",
        "This shows that there are different features that describe the car. Our task here is to explore the data so that we can understand how these features interplay when it comes to determining the price of the car.\n",
        "\n",
        "Our first task will be understanding the missing value of the data."
      ]
    },
    {
      "cell_type": "code",
      "metadata": {
        "trusted": true,
        "id": "y1dhIEjfNUqE",
        "colab_type": "code",
        "outputId": "15424106-b213-4448-aa7a-c1a8929656f2",
        "colab": {
          "base_uri": "https://localhost:8080/",
          "height": 312
        }
      },
      "source": [
        "data.isnull().sum()"
      ],
      "execution_count": 0,
      "outputs": [
        {
          "output_type": "execute_result",
          "data": {
            "text/plain": [
              "maker                   518915\n",
              "model                  1133361\n",
              "mileage                 362584\n",
              "manufacture_year        370578\n",
              "engine_displacement     743414\n",
              "engine_power            554877\n",
              "body_type              1122914\n",
              "color_slug             3343411\n",
              "stk_year               1708156\n",
              "transmission            741630\n",
              "door_count              614373\n",
              "seat_count              749489\n",
              "fuel_type              1847606\n",
              "date_created                 0\n",
              "date_last_seen               0\n",
              "price_eur                    0\n",
              "dtype: int64"
            ]
          },
          "metadata": {
            "tags": []
          },
          "execution_count": 9
        }
      ]
    },
    {
      "cell_type": "markdown",
      "metadata": {
        "id": "5oW6bSOVNUqM",
        "colab_type": "text"
      },
      "source": [
        "Out of 3.5M data, it seems that there are certain features that people don't care about. Such as **model of the car, type of car body, color of the car and fuel type**. \n",
        "With this information, we can simply drop the color column, because that is relatively irrelevant to us at this point. We will explore the remaining features with large missing values."
      ]
    },
    {
      "cell_type": "code",
      "metadata": {
        "trusted": true,
        "id": "DDIftZgoNUqN",
        "colab_type": "code",
        "outputId": "6b47ecde-71d8-4c4a-8de6-f184a8b53d20",
        "colab": {
          "base_uri": "https://localhost:8080/",
          "height": 282
        }
      },
      "source": [
        "data.fuel_type.hist()"
      ],
      "execution_count": 0,
      "outputs": [
        {
          "output_type": "execute_result",
          "data": {
            "text/plain": [
              "<matplotlib.axes._subplots.AxesSubplot at 0x7f3bc2386898>"
            ]
          },
          "metadata": {
            "tags": []
          },
          "execution_count": 10
        },
        {
          "output_type": "display_data",
          "data": {
            "image/png": "[encoded data removed]",
            "text/plain": [
              "<Figure size 432x288 with 1 Axes>"
            ]
          },
          "metadata": {
            "tags": [],
            "needs_background": "light"
          }
        }
      ]
    },
    {
      "cell_type": "markdown",
      "metadata": {
        "id": "0TY6UucZNUqV",
        "colab_type": "text"
      },
      "source": [
        "We can clearly see that majority of the vehicles we have are diesel and gasoline. Lets visualize the plot of for diesel and gasoline."
      ]
    },
    {
      "cell_type": "code",
      "metadata": {
        "trusted": true,
        "id": "k-yIxkaMNUqW",
        "colab_type": "code",
        "outputId": "8d07c474-6b54-41e4-fe04-2b0750438c1e",
        "colab": {
          "base_uri": "https://localhost:8080/",
          "height": 52
        }
      },
      "source": [
        "def price_stats(df, column_name, data):\n",
        "  item = df[df[column_name] == data]\n",
        "  print(f\"The median price for {data} cars is {item.price_eur.median()}. \\\n",
        "The mean is {item.price_eur.mean()} with deviation of {item.price_eur.std()}\")\n",
        "\n",
        "\n",
        "price_stats(data, \"fuel_type\", \"gasoline\")\n",
        "price_stats(data, \"fuel_type\", \"diesel\")\n"
      ],
      "execution_count": 0,
      "outputs": [
        {
          "output_type": "stream",
          "text": [
            "The median price for gasoline cars is 4001.22. The mean is 17911.719578493598 with deviation of 723824.0050526775\n",
            "The median price for diesel cars is 10924.39. The mean is 13803.320890715553 with deviation of 105322.80629674725\n"
          ],
          "name": "stdout"
        }
      ]
    },
    {
      "cell_type": "markdown",
      "metadata": {
        "id": "3DvL0uV0NUqb",
        "colab_type": "text"
      },
      "source": [
        "Clearly this shows that there are outliers that are present within our data. \n",
        "\n",
        "\n"
      ]
    },
    {
      "cell_type": "markdown",
      "metadata": {
        "id": "MRlFoNCxVsVy",
        "colab_type": "text"
      },
      "source": [
        "For any unknown car maker, we are going to drop the data. Because that feels irrelevant to us. First let's have a look at those data and price"
      ]
    },
    {
      "cell_type": "code",
      "metadata": {
        "id": "T4QoYe33V3xg",
        "colab_type": "code",
        "outputId": "6175b0b0-7832-4294-f8e6-1a26f946da6c",
        "colab": {
          "base_uri": "https://localhost:8080/",
          "height": 52
        }
      },
      "source": [
        "unknown_maker = data[data['maker'].isnull()]\n",
        "print(unknown_maker.shape[0])\n",
        "print(f\"The median price for is {unknown_maker.price_eur.median()}. \\\n",
        "The mean is {unknown_maker.price_eur.mean()} with deviation of {unknown_maker.price_eur.std()}\")"
      ],
      "execution_count": 0,
      "outputs": [
        {
          "output_type": "stream",
          "text": [
            "518915\n",
            "The median price for is 6991.04. The mean is 547019.720371013 with deviation of 378961216.31788516\n"
          ],
          "name": "stdout"
        }
      ]
    },
    {
      "cell_type": "code",
      "metadata": {
        "id": "IHGI-7EdXSWM",
        "colab_type": "code",
        "outputId": "bf54140e-b73d-4814-a3e5-5270a29340e3",
        "colab": {
          "base_uri": "https://localhost:8080/",
          "height": 312
        }
      },
      "source": [
        "unknown_maker.isnull().sum()"
      ],
      "execution_count": 0,
      "outputs": [
        {
          "output_type": "execute_result",
          "data": {
            "text/plain": [
              "maker                  518915\n",
              "model                  518915\n",
              "mileage                 80323\n",
              "manufacture_year        72806\n",
              "engine_displacement    151342\n",
              "engine_power           138405\n",
              "body_type              313867\n",
              "color_slug             502485\n",
              "stk_year                86018\n",
              "transmission           148823\n",
              "door_count              55184\n",
              "seat_count              56981\n",
              "fuel_type               96101\n",
              "date_created                0\n",
              "date_last_seen              0\n",
              "price_eur                   0\n",
              "dtype: int64"
            ]
          },
          "metadata": {
            "tags": []
          },
          "execution_count": 13
        }
      ]
    },
    {
      "cell_type": "markdown",
      "metadata": {
        "id": "IiFDsp5XWzNG",
        "colab_type": "text"
      },
      "source": [
        "This clearly hints us that these data are irrelevant to us. Having such huge deviation will only affect our data. Therefore we can safely remove the We have the price for every unknown car manufacturer, but there is no relevant data to support it, other than manufacture year and engine information. Even these data are missing.\n"
      ]
    },
    {
      "cell_type": "code",
      "metadata": {
        "id": "YsmAC6jzXpZS",
        "colab_type": "code",
        "outputId": "f6895f09-1ec7-44e8-ba5d-e23774216324",
        "colab": {
          "base_uri": "https://localhost:8080/",
          "height": 312
        }
      },
      "source": [
        "data = data.dropna(subset=['maker'])\n",
        "data.isnull().sum()"
      ],
      "execution_count": 0,
      "outputs": [
        {
          "output_type": "execute_result",
          "data": {
            "text/plain": [
              "maker                        0\n",
              "model                   614446\n",
              "mileage                 282261\n",
              "manufacture_year        297772\n",
              "engine_displacement     592072\n",
              "engine_power            416472\n",
              "body_type               809047\n",
              "color_slug             2840926\n",
              "stk_year               1622138\n",
              "transmission            592807\n",
              "door_count              559189\n",
              "seat_count              692508\n",
              "fuel_type              1751505\n",
              "date_created                 0\n",
              "date_last_seen               0\n",
              "price_eur                    0\n",
              "dtype: int64"
            ]
          },
          "metadata": {
            "tags": []
          },
          "execution_count": 14
        }
      ]
    },
    {
      "cell_type": "markdown",
      "metadata": {
        "id": "pIg9ZNVMYndk",
        "colab_type": "text"
      },
      "source": [
        "We have already reduced the significant information of missing value from the dataset. Now we can use maker and engine power to generate fill in the value for model. Lets see number of unique values in each column. Before that lets drop the features of color."
      ]
    },
    {
      "cell_type": "code",
      "metadata": {
        "id": "z0gBK1LSZKRV",
        "colab_type": "code",
        "colab": {}
      },
      "source": [
        "data = data.drop('color_slug', axis=1)"
      ],
      "execution_count": 0,
      "outputs": []
    },
    {
      "cell_type": "markdown",
      "metadata": {
        "id": "Whm14GgOaBhS",
        "colab_type": "text"
      },
      "source": [
        "Once we dropped color data, we can now see the unique values in all our columns\n"
      ]
    },
    {
      "cell_type": "code",
      "metadata": {
        "id": "xUdnvxmaaLkz",
        "colab_type": "code",
        "outputId": "64b7b3ea-335a-421e-fced-c9b49556a26d",
        "colab": {
          "base_uri": "https://localhost:8080/",
          "height": 278
        }
      },
      "source": [
        "for each in data.columns.values:\n",
        "  uniques = len(data[each].unique())\n",
        "  print(f\"There are {uniques} different values for {each}.\")"
      ],
      "execution_count": 0,
      "outputs": [
        {
          "output_type": "stream",
          "text": [
            "There are 46 different values for maker.\n",
            "There are 1013 different values for model.\n",
            "There are 237578 different values for mileage.\n",
            "There are 1562 different values for manufacture_year.\n",
            "There are 6274 different values for engine_displacement.\n",
            "There are 606 different values for engine_power.\n",
            "There are 10 different values for body_type.\n",
            "There are 261 different values for stk_year.\n",
            "There are 3 different values for transmission.\n",
            "There are 26 different values for door_count.\n",
            "There are 74 different values for seat_count.\n",
            "There are 6 different values for fuel_type.\n",
            "There are 3033997 different values for date_created.\n",
            "There are 2903510 different values for date_last_seen.\n",
            "There are 206265 different values for price_eur.\n"
          ],
          "name": "stdout"
        }
      ]
    },
    {
      "cell_type": "code",
      "metadata": {
        "id": "d8Yn-2T3b_h8",
        "colab_type": "code",
        "outputId": "04a09fe8-a65e-4117-f451-c4d8439317c0",
        "colab": {
          "base_uri": "https://localhost:8080/",
          "height": 335
        }
      },
      "source": [
        "power_levels = pd.cut(data['engine_power'], range(0, 200, 50))\n",
        "power_levels.value_counts().plot(kind='bar')\n"
      ],
      "execution_count": 0,
      "outputs": [
        {
          "output_type": "execute_result",
          "data": {
            "text/plain": [
              "<matplotlib.axes._subplots.AxesSubplot at 0x7f3bc22b46a0>"
            ]
          },
          "metadata": {
            "tags": []
          },
          "execution_count": 17
        },
        {
          "output_type": "display_data",
          "data": {
            "image/png": "[encoded data removed]",
            "text/plain": [
              "<Figure size 432x288 with 1 Axes>"
            ]
          },
          "metadata": {
            "tags": [],
            "needs_background": "light"
          }
        }
      ]
    },
    {
      "cell_type": "markdown",
      "metadata": {
        "id": "mpyGm1o2dhIr",
        "colab_type": "text"
      },
      "source": [
        "Signifcant of our data has engine power from 50KW to 150KW. Based on our manufacturer and there corresponding model we can fill this data. Lets see which top 5 manufacturer has the highest count."
      ]
    },
    {
      "cell_type": "code",
      "metadata": {
        "id": "4genHWmEd3GL",
        "colab_type": "code",
        "outputId": "2a7bd1d9-0b32-4f4b-9652-8a08c8b473c5",
        "colab": {
          "base_uri": "https://localhost:8080/",
          "height": 121
        }
      },
      "source": [
        "data['maker'].value_counts().head()"
      ],
      "execution_count": 0,
      "outputs": [
        {
          "output_type": "execute_result",
          "data": {
            "text/plain": [
              "skoda            313830\n",
              "volkswagen       297256\n",
              "bmw              266731\n",
              "mercedes-benz    251966\n",
              "audi             248602\n",
              "Name: maker, dtype: int64"
            ]
          },
          "metadata": {
            "tags": []
          },
          "execution_count": 18
        }
      ]
    },
    {
      "cell_type": "markdown",
      "metadata": {
        "id": "Kg5p6octgDzi",
        "colab_type": "text"
      },
      "source": [
        "Let's explore our data based on car manufacturers. That way we can find some good ways to replace fill in the missing values and deal with outliers.\n"
      ]
    },
    {
      "cell_type": "code",
      "metadata": {
        "id": "-SUyZ7qxgBoK",
        "colab_type": "code",
        "outputId": "ed392523-5d4c-4a92-ed87-11986a9991ce",
        "colab": {
          "base_uri": "https://localhost:8080/",
          "height": 282
        }
      },
      "source": [
        "grouped = data.groupby('maker')\n",
        "df = grouped['engine_power'].describe().reset_index()\n",
        "df = df.sort_values('mean', ascending=True)\n",
        "plt.bar(df['mean'], df['count'])"
      ],
      "execution_count": 0,
      "outputs": [
        {
          "output_type": "execute_result",
          "data": {
            "text/plain": [
              "<BarContainer object of 46 artists>"
            ]
          },
          "metadata": {
            "tags": []
          },
          "execution_count": 19
        },
        {
          "output_type": "display_data",
          "data": {
            "image/png": "[encoded data removed]",
            "text/plain": [
              "<Figure size 432x288 with 1 Axes>"
            ]
          },
          "metadata": {
            "tags": [],
            "needs_background": "light"
          }
        }
      ]
    },
    {
      "cell_type": "markdown",
      "metadata": {
        "id": "MTyNUgp8jDfT",
        "colab_type": "text"
      },
      "source": [
        "This bar plot reveals several the the distribution of the average engine power on our data. If seems that the data falls under two categories, on for which power is less than 100 and another for which power is close to 150. We can fillin these information based on the manufacturer. \n",
        "\n",
        "For each manufacturer's we will fill the missing value with the median value. for that manufacturer.\n"
      ]
    },
    {
      "cell_type": "code",
      "metadata": {
        "id": "1eWC9yh7g_cy",
        "colab_type": "code",
        "colab": {}
      },
      "source": [
        "data['engine_power'] = grouped['engine_power'].transform(lambda x: x.fillna(x.median()))  "
      ],
      "execution_count": 0,
      "outputs": []
    },
    {
      "cell_type": "code",
      "metadata": {
        "id": "ghobIFbPkkyJ",
        "colab_type": "code",
        "outputId": "1abaceb9-2b44-4a06-e4af-0b3abfd0d353",
        "colab": {
          "base_uri": "https://localhost:8080/",
          "height": 295
        }
      },
      "source": [
        "data.isnull().sum()"
      ],
      "execution_count": 0,
      "outputs": [
        {
          "output_type": "execute_result",
          "data": {
            "text/plain": [
              "maker                        0\n",
              "model                   614446\n",
              "mileage                 282261\n",
              "manufacture_year        297772\n",
              "engine_displacement     592072\n",
              "engine_power                 0\n",
              "body_type               809047\n",
              "stk_year               1622138\n",
              "transmission            592807\n",
              "door_count              559189\n",
              "seat_count              692508\n",
              "fuel_type              1751505\n",
              "date_created                 0\n",
              "date_last_seen               0\n",
              "price_eur                    0\n",
              "dtype: int64"
            ]
          },
          "metadata": {
            "tags": []
          },
          "execution_count": 21
        }
      ]
    },
    {
      "cell_type": "markdown",
      "metadata": {
        "id": "OmRe7GDymAQU",
        "colab_type": "text"
      },
      "source": [
        "Now lets use the information of engine power and pre-existing. First we will group the models based off maker and model. That we can access the engine and price for the each model made by the maker."
      ]
    },
    {
      "cell_type": "code",
      "metadata": {
        "id": "r9koosm7l_Sc",
        "colab_type": "code",
        "colab": {}
      },
      "source": [
        "mm = data.groupby(['maker', 'model'])\n",
        "uniques_power = mm['engine_power'].mean().reset_index()\n",
        "uniques_price = mm['price_eur'].mean().reset_index()"
      ],
      "execution_count": 0,
      "outputs": []
    },
    {
      "cell_type": "code",
      "metadata": {
        "id": "mIWdPAsvCRwx",
        "colab_type": "code",
        "colab": {}
      },
      "source": [
        "estimated_model = pd.merge(uniques_power, uniques_price, how='outer')\n"
      ],
      "execution_count": 0,
      "outputs": []
    },
    {
      "cell_type": "markdown",
      "metadata": {
        "id": "LaTMVPIlTe3l",
        "colab_type": "text"
      },
      "source": [
        "Once we have general idea on how each model is priced and what is the engine power of each model we can use this to create a function.\n",
        "\n",
        "The function should take maker, power and price and return. It first looks in the maker, then checks for the price closests to the given price. After that it checks for the power in similar range. And then it returns the model.\n"
      ]
    },
    {
      "cell_type": "code",
      "metadata": {
        "id": "oTq4OhlJHXpC",
        "colab_type": "code",
        "colab": {}
      },
      "source": [
        "def fetch_model(maker, power, price):\n",
        "  look_in = estimated_model[estimated_model['maker'] == maker]\n",
        "  idx = look_in['price_eur'].sub(price).abs().idxmin()\n",
        "  fprice = look_in.loc[idx].price_eur\n",
        "  look_in_price = look_in[look_in.price_eur == fprice]\n",
        "  idx = look_in_price['engine_power'].sub(power).abs().idxmin()\n",
        "  fpower = look_in_price.loc[idx].engine_power\n",
        "  final = look_in_price[look_in_price['engine_power'] == fpower].model.values[0]\n",
        "  return final"
      ],
      "execution_count": 0,
      "outputs": []
    },
    {
      "cell_type": "code",
      "metadata": {
        "id": "qgN7NbjtjcjY",
        "colab_type": "code",
        "colab": {}
      },
      "source": [
        "data_grouped = data.groupby(['maker', 'engine_power', 'price_eur'])\n",
        "test = data.iloc[1]"
      ],
      "execution_count": 0,
      "outputs": []
    },
    {
      "cell_type": "code",
      "metadata": {
        "colab_type": "code",
        "id": "7tkWWRk7PQEL",
        "outputId": "c1ba3243-feda-42c6-f26f-e8a1bd111589",
        "colab": {
          "base_uri": "https://localhost:8080/",
          "height": 382
        }
      },
      "source": [
        "# models = data[data['model'].isnull()]\n",
        "# models.shape\n",
        "# data_grouped = models.groupby(['maker', 'engine_power', 'price_eur'])\n",
        "# models.model = data_grouped['model'].transform(lambda x: x.fillna(fetch_model(x.name[0], x.name[1], x.name[2])))\n",
        "models = pd.read_csv('/content/drive/My Drive/ai/data.csv', index_col='Unnamed: 0')\n",
        "models.head()"
      ],
      "execution_count": 0,
      "outputs": [
        {
          "output_type": "stream",
          "text": [
            "/usr/local/lib/python3.6/dist-packages/IPython/core/interactiveshell.py:2718: DtypeWarning: Columns (8,10,11,12) have mixed types.Specify dtype option on import or set low_memory=False.\n",
            "  interactivity=interactivity, compiler=compiler, result=result)\n",
            "/usr/local/lib/python3.6/dist-packages/numpy/lib/arraysetops.py:569: FutureWarning: elementwise comparison failed; returning scalar instead, but in the future will perform elementwise comparison\n",
            "  mask |= (ar1 == a)\n"
          ],
          "name": "stderr"
        },
        {
          "output_type": "execute_result",
          "data": {
            "text/html": [
              "<div>\n",
              "<style scoped>\n",
              "    .dataframe tbody tr th:only-of-type {\n",
              "        vertical-align: middle;\n",
              "    }\n",
              "\n",
              "    .dataframe tbody tr th {\n",
              "        vertical-align: top;\n",
              "    }\n",
              "\n",
              "    .dataframe thead th {\n",
              "        text-align: right;\n",
              "    }\n",
              "</style>\n",
              "<table border=\"1\" class=\"dataframe\">\n",
              "  <thead>\n",
              "    <tr style=\"text-align: right;\">\n",
              "      <th></th>\n",
              "      <th>maker</th>\n",
              "      <th>model</th>\n",
              "      <th>mileage</th>\n",
              "      <th>manufacture_year</th>\n",
              "      <th>engine_displacement</th>\n",
              "      <th>engine_power</th>\n",
              "      <th>body_type</th>\n",
              "      <th>stk_year</th>\n",
              "      <th>transmission</th>\n",
              "      <th>door_count</th>\n",
              "      <th>seat_count</th>\n",
              "      <th>fuel_type</th>\n",
              "      <th>date_created</th>\n",
              "      <th>date_last_seen</th>\n",
              "      <th>price_eur</th>\n",
              "    </tr>\n",
              "  </thead>\n",
              "  <tbody>\n",
              "    <tr>\n",
              "      <th>0</th>\n",
              "      <td>ford</td>\n",
              "      <td>galaxy</td>\n",
              "      <td>151000.0</td>\n",
              "      <td>2011.0</td>\n",
              "      <td>2000.0</td>\n",
              "      <td>103.0</td>\n",
              "      <td>NaN</td>\n",
              "      <td>None</td>\n",
              "      <td>man</td>\n",
              "      <td>5</td>\n",
              "      <td>7</td>\n",
              "      <td>diesel</td>\n",
              "      <td>2015-11-14 18:10:06.838319+00</td>\n",
              "      <td>2016-01-27 20:40:15.46361+00</td>\n",
              "      <td>10584.75</td>\n",
              "    </tr>\n",
              "    <tr>\n",
              "      <th>1</th>\n",
              "      <td>skoda</td>\n",
              "      <td>octavia</td>\n",
              "      <td>143476.0</td>\n",
              "      <td>2012.0</td>\n",
              "      <td>2000.0</td>\n",
              "      <td>81.0</td>\n",
              "      <td>NaN</td>\n",
              "      <td>None</td>\n",
              "      <td>man</td>\n",
              "      <td>5</td>\n",
              "      <td>5</td>\n",
              "      <td>diesel</td>\n",
              "      <td>2015-11-14 18:10:06.853411+00</td>\n",
              "      <td>2016-01-27 20:40:15.46361+00</td>\n",
              "      <td>8882.31</td>\n",
              "    </tr>\n",
              "    <tr>\n",
              "      <th>2</th>\n",
              "      <td>bmw</td>\n",
              "      <td>passat</td>\n",
              "      <td>97676.0</td>\n",
              "      <td>2010.0</td>\n",
              "      <td>1995.0</td>\n",
              "      <td>85.0</td>\n",
              "      <td>NaN</td>\n",
              "      <td>None</td>\n",
              "      <td>man</td>\n",
              "      <td>5</td>\n",
              "      <td>5</td>\n",
              "      <td>diesel</td>\n",
              "      <td>2015-11-14 18:10:06.861792+00</td>\n",
              "      <td>2016-01-27 20:40:15.46361+00</td>\n",
              "      <td>12065.06</td>\n",
              "    </tr>\n",
              "    <tr>\n",
              "      <th>3</th>\n",
              "      <td>skoda</td>\n",
              "      <td>fabia</td>\n",
              "      <td>111970.0</td>\n",
              "      <td>2004.0</td>\n",
              "      <td>1200.0</td>\n",
              "      <td>47.0</td>\n",
              "      <td>NaN</td>\n",
              "      <td>None</td>\n",
              "      <td>man</td>\n",
              "      <td>5</td>\n",
              "      <td>5</td>\n",
              "      <td>gasoline</td>\n",
              "      <td>2015-11-14 18:10:06.872313+00</td>\n",
              "      <td>2016-01-27 20:40:15.46361+00</td>\n",
              "      <td>2960.77</td>\n",
              "    </tr>\n",
              "    <tr>\n",
              "      <th>4</th>\n",
              "      <td>skoda</td>\n",
              "      <td>fabia</td>\n",
              "      <td>128886.0</td>\n",
              "      <td>2004.0</td>\n",
              "      <td>1200.0</td>\n",
              "      <td>47.0</td>\n",
              "      <td>NaN</td>\n",
              "      <td>None</td>\n",
              "      <td>man</td>\n",
              "      <td>5</td>\n",
              "      <td>5</td>\n",
              "      <td>gasoline</td>\n",
              "      <td>2015-11-14 18:10:06.880335+00</td>\n",
              "      <td>2016-01-27 20:40:15.46361+00</td>\n",
              "      <td>2738.71</td>\n",
              "    </tr>\n",
              "  </tbody>\n",
              "</table>\n",
              "</div>"
            ],
            "text/plain": [
              "   maker    model  ...                date_last_seen  price_eur\n",
              "0   ford   galaxy  ...  2016-01-27 20:40:15.46361+00   10584.75\n",
              "1  skoda  octavia  ...  2016-01-27 20:40:15.46361+00    8882.31\n",
              "2    bmw   passat  ...  2016-01-27 20:40:15.46361+00   12065.06\n",
              "3  skoda    fabia  ...  2016-01-27 20:40:15.46361+00    2960.77\n",
              "4  skoda    fabia  ...  2016-01-27 20:40:15.46361+00    2738.71\n",
              "\n",
              "[5 rows x 15 columns]"
            ]
          },
          "metadata": {
            "tags": []
          },
          "execution_count": 26
        }
      ]
    },
    {
      "cell_type": "markdown",
      "metadata": {
        "id": "UDHBIMpiV9pq",
        "colab_type": "text"
      },
      "source": [
        "Once we have applied the function we can look on our data. It should now fix the missing model name. "
      ]
    },
    {
      "cell_type": "code",
      "metadata": {
        "id": "VDFQErA-KUH4",
        "colab_type": "code",
        "outputId": "cdb12d5c-0ed4-4fb6-9da6-f23cf17cead3",
        "colab": {
          "base_uri": "https://localhost:8080/",
          "height": 295
        }
      },
      "source": [
        "data.model = data.model.fillna(models.model)\n",
        "data.isnull().sum()"
      ],
      "execution_count": 0,
      "outputs": [
        {
          "output_type": "execute_result",
          "data": {
            "text/plain": [
              "maker                        0\n",
              "model                        0\n",
              "mileage                 282261\n",
              "manufacture_year        297772\n",
              "engine_displacement     592072\n",
              "engine_power                 0\n",
              "body_type               809047\n",
              "stk_year               1622138\n",
              "transmission            592807\n",
              "door_count              559189\n",
              "seat_count              692508\n",
              "fuel_type              1751505\n",
              "date_created                 0\n",
              "date_last_seen               0\n",
              "price_eur                    0\n",
              "dtype: int64"
            ]
          },
          "metadata": {
            "tags": []
          },
          "execution_count": 27
        }
      ]
    },
    {
      "cell_type": "markdown",
      "metadata": {
        "id": "C4Dx79ymntAX",
        "colab_type": "text"
      },
      "source": [
        "# Filling Rest"
      ]
    },
    {
      "cell_type": "markdown",
      "metadata": {
        "id": "aiFdUXWOWKyR",
        "colab_type": "text"
      },
      "source": [
        "Now we are going to use maker and model data to fill in other values."
      ]
    },
    {
      "cell_type": "code",
      "metadata": {
        "id": "GE_tGP1qjTmL",
        "colab_type": "code",
        "colab": {}
      },
      "source": [
        "data['door_count'] = data['door_count'].replace('None', np.nan)\n",
        "data['seat_count'] = data['seat_count'].replace('None', np.nan)\n",
        "data['transmission'].replace('man', 0, inplace=True)\n",
        "data['transmission'].replace('auto', 1, inplace=True)\n",
        "data['transmission'].replace('None', np.nan ,inplace=True)\n",
        "data['stk_year'].replace('None', np.nan ,inplace=True)\n",
        "data['fuel_type'].replace('None', np.nan ,inplace=True)\n",
        "\n",
        "data[\"door_count\"] = pd.to_numeric(data[\"door_count\"], downcast=\"float\")\n",
        "data[\"seat_count\"] = pd.to_numeric(data[\"seat_count\"], downcast=\"float\")\n",
        "data[\"stk_year\"] = pd.to_numeric(data[\"stk_year\"], downcast=\"float\")"
      ],
      "execution_count": 0,
      "outputs": []
    },
    {
      "cell_type": "code",
      "metadata": {
        "id": "ZRSPOZNJru6i",
        "colab_type": "code",
        "colab": {}
      },
      "source": [
        "def f(x):\n",
        "    if x.count()<=0:\n",
        "        return np.nan\n",
        "    return x.value_counts().index[0]\n",
        "\n",
        "data['fuel_type'] = data.groupby(['maker', 'model'])['fuel_type'].transform(f)\n",
        "data['body_type'] = data.groupby(['maker', 'model'])['body_type'].transform(f)"
      ],
      "execution_count": 0,
      "outputs": []
    },
    {
      "cell_type": "code",
      "metadata": {
        "id": "vmBLddN3VVEP",
        "colab_type": "code",
        "colab": {}
      },
      "source": [
        "# data[\"door_count\"] = pd.to_numeric(data[\"door_count\"], downcast=\"float\")\n",
        "# data[\"seat_count\"] = pd.to_numeric(data[\"seat_count\"], downcast=\"float\")\n",
        "mm = data.groupby(['maker', 'model'])\n",
        "# plt.bar(mileage_data['maker'], mileage_data['mileage'])"
      ],
      "execution_count": 0,
      "outputs": []
    },
    {
      "cell_type": "code",
      "metadata": {
        "id": "LchingTxWCbn",
        "colab_type": "code",
        "colab": {}
      },
      "source": [
        "data['mileage'] = data['mileage'].fillna(mm['mileage'].transform('median'))\n",
        "data['manufacture_year'] = data['manufacture_year'].fillna(mm['manufacture_year'].transform('median'))\n",
        "data['door_count'] = data['door_count'].fillna(mm['door_count'].transform('median'))\n",
        "data['seat_count'] = data['seat_count'].fillna(mm['seat_count'].transform('median'))\n",
        "data['engine_displacement'] = data['engine_displacement'].fillna(mm['seat_count'].transform('median'))\n",
        "data['transmission'] = data['transmission'].fillna(mm['seat_count'].transform('median'))\n",
        "data['stk_year'] = data['stk_year'].fillna(mm['stk_year'].transform('median'))\n"
      ],
      "execution_count": 0,
      "outputs": []
    },
    {
      "cell_type": "code",
      "metadata": {
        "id": "UjsH0pQEsQEE",
        "colab_type": "code",
        "outputId": "452a8c10-b47f-4d3d-9b89-894811a16358",
        "colab": {
          "base_uri": "https://localhost:8080/",
          "height": 34
        }
      },
      "source": [
        "data.shape"
      ],
      "execution_count": 0,
      "outputs": [
        {
          "output_type": "execute_result",
          "data": {
            "text/plain": [
              "(3033997, 15)"
            ]
          },
          "metadata": {
            "tags": []
          },
          "execution_count": 32
        }
      ]
    },
    {
      "cell_type": "code",
      "metadata": {
        "id": "nDlatdDAuKLc",
        "colab_type": "code",
        "outputId": "1d2ae952-c85a-4de7-b9f6-73b35a5e5870",
        "colab": {
          "base_uri": "https://localhost:8080/",
          "height": 295
        }
      },
      "source": [
        "data.isnull().sum()"
      ],
      "execution_count": 0,
      "outputs": [
        {
          "output_type": "execute_result",
          "data": {
            "text/plain": [
              "maker                  0\n",
              "model                  0\n",
              "mileage                0\n",
              "manufacture_year       0\n",
              "engine_displacement    0\n",
              "engine_power           0\n",
              "body_type              0\n",
              "stk_year               0\n",
              "transmission           0\n",
              "door_count             0\n",
              "seat_count             0\n",
              "fuel_type              0\n",
              "date_created           0\n",
              "date_last_seen         0\n",
              "price_eur              0\n",
              "dtype: int64"
            ]
          },
          "metadata": {
            "tags": []
          },
          "execution_count": 38
        }
      ]
    },
    {
      "cell_type": "code",
      "metadata": {
        "id": "stnWsD5WuvJW",
        "colab_type": "code",
        "colab": {}
      },
      "source": [
        "data.dropna(inplace=True)"
      ],
      "execution_count": 0,
      "outputs": []
    },
    {
      "cell_type": "code",
      "metadata": {
        "id": "uTv8t-_qu1Iq",
        "colab_type": "code",
        "outputId": "52c0eef7-66b0-4514-bf3c-1e70e75fdfb7",
        "colab": {
          "base_uri": "https://localhost:8080/",
          "height": 34
        }
      },
      "source": [
        "data.shape"
      ],
      "execution_count": 0,
      "outputs": [
        {
          "output_type": "execute_result",
          "data": {
            "text/plain": [
              "(3028207, 15)"
            ]
          },
          "metadata": {
            "tags": []
          },
          "execution_count": 36
        }
      ]
    },
    {
      "cell_type": "code",
      "metadata": {
        "id": "PeI9LtlcwCEU",
        "colab_type": "code",
        "outputId": "e3f36080-3c49-4416-a819-c958641078be",
        "colab": {
          "base_uri": "https://localhost:8080/",
          "height": 191
        }
      },
      "source": [
        "data.corr()['price_eur']"
      ],
      "execution_count": 0,
      "outputs": [
        {
          "output_type": "execute_result",
          "data": {
            "text/plain": [
              "mileage               -0.000159\n",
              "manufacture_year       0.000020\n",
              "engine_displacement    0.002561\n",
              "engine_power           0.000151\n",
              "stk_year              -0.000013\n",
              "transmission           0.001012\n",
              "door_count            -0.001009\n",
              "seat_count            -0.001066\n",
              "price_eur              1.000000\n",
              "Name: price_eur, dtype: float64"
            ]
          },
          "metadata": {
            "tags": []
          },
          "execution_count": 40
        }
      ]
    },
    {
      "cell_type": "code",
      "metadata": {
        "id": "QPvHyjzTwgFY",
        "colab_type": "code",
        "outputId": "5c1a5172-b510-476a-be28-0c148628ba0a",
        "colab": {
          "base_uri": "https://localhost:8080/",
          "height": 293
        }
      },
      "source": [
        "plt.scatter(data['fuel_type'], data['price_eur'])"
      ],
      "execution_count": 0,
      "outputs": [
        {
          "output_type": "execute_result",
          "data": {
            "text/plain": [
              "<matplotlib.collections.PathCollection at 0x7f3b98ff2a58>"
            ]
          },
          "metadata": {
            "tags": []
          },
          "execution_count": 43
        },
        {
          "output_type": "display_data",
          "data": {
            "image/png": "[encoded data removed]",
            "text/plain": [
              "<Figure size 432x288 with 1 Axes>"
            ]
          },
          "metadata": {
            "tags": [],
            "needs_background": "light"
          }
        }
      ]
    }
  ]
}