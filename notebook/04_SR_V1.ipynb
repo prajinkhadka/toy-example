{
 "cells": [
  {
   "cell_type": "code",
   "execution_count": 1,
   "metadata": {},
   "outputs": [],
   "source": [
    "import numpy as np\n",
    "import pandas as pd\n",
    "import matplotlib.pyplot as plt\n",
    "import seaborn as sns\n",
    "\n",
    "import warnings\n",
    "warnings.filterwarnings(\"ignore\")"
   ]
  },
  {
   "cell_type": "code",
   "execution_count": 2,
   "metadata": {},
   "outputs": [],
   "source": [
    "data = pd.read_csv('all_anonymized_2015_11_2017_03.csv')"
   ]
  },
  {
   "cell_type": "code",
   "execution_count": 3,
   "metadata": {},
   "outputs": [
    {
     "data": {
      "text/plain": [
       "Index(['maker', 'model', 'mileage', 'manufacture_year', 'engine_displacement',\n",
       "       'engine_power', 'body_type', 'color_slug', 'stk_year', 'transmission',\n",
       "       'door_count', 'seat_count', 'fuel_type', 'date_created',\n",
       "       'date_last_seen', 'price_eur'],\n",
       "      dtype='object')"
      ]
     },
     "execution_count": 3,
     "metadata": {},
     "output_type": "execute_result"
    }
   ],
   "source": [
    "data.columns"
   ]
  },
  {
   "cell_type": "code",
   "execution_count": 4,
   "metadata": {},
   "outputs": [
    {
     "data": {
      "text/plain": [
       "maker                   object\n",
       "model                   object\n",
       "mileage                float64\n",
       "manufacture_year       float64\n",
       "engine_displacement    float64\n",
       "engine_power           float64\n",
       "body_type               object\n",
       "color_slug              object\n",
       "stk_year                object\n",
       "transmission            object\n",
       "door_count              object\n",
       "seat_count              object\n",
       "fuel_type               object\n",
       "date_created            object\n",
       "date_last_seen          object\n",
       "price_eur              float64\n",
       "dtype: object"
      ]
     },
     "execution_count": 4,
     "metadata": {},
     "output_type": "execute_result"
    }
   ],
   "source": [
    "data.dtypes"
   ]
  },
  {
   "cell_type": "markdown",
   "metadata": {},
   "source": [
    "### Preprocessing\n",
    "\n",
    "Checking missing values in each variables. "
   ]
  },
  {
   "cell_type": "code",
   "execution_count": 5,
   "metadata": {},
   "outputs": [
    {
     "data": {
      "text/plain": [
       "maker                  0.146053\n",
       "model                  0.318995\n",
       "mileage                0.102053\n",
       "manufacture_year       0.104303\n",
       "engine_displacement    0.209241\n",
       "engine_power           0.156175\n",
       "body_type              0.316055\n",
       "color_slug             0.941034\n",
       "stk_year               0.480776\n",
       "transmission           0.208739\n",
       "door_count             0.172921\n",
       "seat_count             0.210951\n",
       "fuel_type              0.520026\n",
       "date_created           0.000000\n",
       "date_last_seen         0.000000\n",
       "price_eur              0.000000\n",
       "dtype: float64"
      ]
     },
     "execution_count": 5,
     "metadata": {},
     "output_type": "execute_result"
    }
   ],
   "source": [
    "data.isnull().mean()"
   ]
  },
  {
   "cell_type": "markdown",
   "metadata": {},
   "source": [
    " ### Statistics Visualize\n",
    " \n",
    " 1. Statistics of numerical data\n",
    " 2. Categorical Data"
   ]
  },
  {
   "cell_type": "code",
   "execution_count": 6,
   "metadata": {},
   "outputs": [
    {
     "data": {
      "text/html": [
       "<div>\n",
       "<style scoped>\n",
       "    .dataframe tbody tr th:only-of-type {\n",
       "        vertical-align: middle;\n",
       "    }\n",
       "\n",
       "    .dataframe tbody tr th {\n",
       "        vertical-align: top;\n",
       "    }\n",
       "\n",
       "    .dataframe thead th {\n",
       "        text-align: right;\n",
       "    }\n",
       "</style>\n",
       "<table border=\"1\" class=\"dataframe\">\n",
       "  <thead>\n",
       "    <tr style=\"text-align: right;\">\n",
       "      <th></th>\n",
       "      <th>mileage</th>\n",
       "      <th>manufacture_year</th>\n",
       "      <th>engine_displacement</th>\n",
       "      <th>engine_power</th>\n",
       "      <th>price_eur</th>\n",
       "    </tr>\n",
       "  </thead>\n",
       "  <tbody>\n",
       "    <tr>\n",
       "      <th>count</th>\n",
       "      <td>3.190328e+06</td>\n",
       "      <td>3.182334e+06</td>\n",
       "      <td>2.809498e+06</td>\n",
       "      <td>2.998035e+06</td>\n",
       "      <td>3.552912e+06</td>\n",
       "    </tr>\n",
       "    <tr>\n",
       "      <th>mean</th>\n",
       "      <td>1.158140e+05</td>\n",
       "      <td>2.000871e+03</td>\n",
       "      <td>2.043958e+03</td>\n",
       "      <td>9.846796e+01</td>\n",
       "      <td>1.625812e+06</td>\n",
       "    </tr>\n",
       "    <tr>\n",
       "      <th>std</th>\n",
       "      <td>3.422508e+05</td>\n",
       "      <td>8.172588e+01</td>\n",
       "      <td>1.973958e+03</td>\n",
       "      <td>4.907309e+01</td>\n",
       "      <td>2.025622e+09</td>\n",
       "    </tr>\n",
       "    <tr>\n",
       "      <th>min</th>\n",
       "      <td>0.000000e+00</td>\n",
       "      <td>0.000000e+00</td>\n",
       "      <td>0.000000e+00</td>\n",
       "      <td>1.000000e+00</td>\n",
       "      <td>4.000000e-02</td>\n",
       "    </tr>\n",
       "    <tr>\n",
       "      <th>25%</th>\n",
       "      <td>1.880000e+04</td>\n",
       "      <td>2.004000e+03</td>\n",
       "      <td>1.400000e+03</td>\n",
       "      <td>6.800000e+01</td>\n",
       "      <td>1.295340e+03</td>\n",
       "    </tr>\n",
       "    <tr>\n",
       "      <th>50%</th>\n",
       "      <td>8.641500e+04</td>\n",
       "      <td>2.009000e+03</td>\n",
       "      <td>1.798000e+03</td>\n",
       "      <td>8.600000e+01</td>\n",
       "      <td>7.364910e+03</td>\n",
       "    </tr>\n",
       "    <tr>\n",
       "      <th>75%</th>\n",
       "      <td>1.580250e+05</td>\n",
       "      <td>2.013000e+03</td>\n",
       "      <td>1.997000e+03</td>\n",
       "      <td>1.100000e+02</td>\n",
       "      <td>1.628423e+04</td>\n",
       "    </tr>\n",
       "    <tr>\n",
       "      <th>max</th>\n",
       "      <td>9.999999e+06</td>\n",
       "      <td>2.017000e+03</td>\n",
       "      <td>3.276700e+04</td>\n",
       "      <td>2.237000e+03</td>\n",
       "      <td>2.706149e+12</td>\n",
       "    </tr>\n",
       "  </tbody>\n",
       "</table>\n",
       "</div>"
      ],
      "text/plain": [
       "            mileage  manufacture_year  engine_displacement  engine_power  \\\n",
       "count  3.190328e+06      3.182334e+06         2.809498e+06  2.998035e+06   \n",
       "mean   1.158140e+05      2.000871e+03         2.043958e+03  9.846796e+01   \n",
       "std    3.422508e+05      8.172588e+01         1.973958e+03  4.907309e+01   \n",
       "min    0.000000e+00      0.000000e+00         0.000000e+00  1.000000e+00   \n",
       "25%    1.880000e+04      2.004000e+03         1.400000e+03  6.800000e+01   \n",
       "50%    8.641500e+04      2.009000e+03         1.798000e+03  8.600000e+01   \n",
       "75%    1.580250e+05      2.013000e+03         1.997000e+03  1.100000e+02   \n",
       "max    9.999999e+06      2.017000e+03         3.276700e+04  2.237000e+03   \n",
       "\n",
       "          price_eur  \n",
       "count  3.552912e+06  \n",
       "mean   1.625812e+06  \n",
       "std    2.025622e+09  \n",
       "min    4.000000e-02  \n",
       "25%    1.295340e+03  \n",
       "50%    7.364910e+03  \n",
       "75%    1.628423e+04  \n",
       "max    2.706149e+12  "
      ]
     },
     "execution_count": 6,
     "metadata": {},
     "output_type": "execute_result"
    }
   ],
   "source": [
    "data.describe(include = 'float64')"
   ]
  },
  {
   "cell_type": "code",
   "execution_count": 7,
   "metadata": {},
   "outputs": [
    {
     "data": {
      "text/html": [
       "<div>\n",
       "<style scoped>\n",
       "    .dataframe tbody tr th:only-of-type {\n",
       "        vertical-align: middle;\n",
       "    }\n",
       "\n",
       "    .dataframe tbody tr th {\n",
       "        vertical-align: top;\n",
       "    }\n",
       "\n",
       "    .dataframe thead th {\n",
       "        text-align: right;\n",
       "    }\n",
       "</style>\n",
       "<table border=\"1\" class=\"dataframe\">\n",
       "  <thead>\n",
       "    <tr style=\"text-align: right;\">\n",
       "      <th></th>\n",
       "      <th>maker</th>\n",
       "      <th>model</th>\n",
       "      <th>body_type</th>\n",
       "      <th>color_slug</th>\n",
       "      <th>stk_year</th>\n",
       "      <th>transmission</th>\n",
       "      <th>door_count</th>\n",
       "      <th>seat_count</th>\n",
       "      <th>fuel_type</th>\n",
       "      <th>date_created</th>\n",
       "      <th>date_last_seen</th>\n",
       "    </tr>\n",
       "  </thead>\n",
       "  <tbody>\n",
       "    <tr>\n",
       "      <th>count</th>\n",
       "      <td>3033997</td>\n",
       "      <td>2419551</td>\n",
       "      <td>2429998</td>\n",
       "      <td>209501</td>\n",
       "      <td>1844756</td>\n",
       "      <td>2811282</td>\n",
       "      <td>2938539.0</td>\n",
       "      <td>2803423.0</td>\n",
       "      <td>1705306</td>\n",
       "      <td>3552912</td>\n",
       "      <td>3552912</td>\n",
       "    </tr>\n",
       "    <tr>\n",
       "      <th>unique</th>\n",
       "      <td>46</td>\n",
       "      <td>1012</td>\n",
       "      <td>9</td>\n",
       "      <td>14</td>\n",
       "      <td>298</td>\n",
       "      <td>2</td>\n",
       "      <td>26.0</td>\n",
       "      <td>88.0</td>\n",
       "      <td>5</td>\n",
       "      <td>3552912</td>\n",
       "      <td>3355057</td>\n",
       "    </tr>\n",
       "    <tr>\n",
       "      <th>top</th>\n",
       "      <td>skoda</td>\n",
       "      <td>octavia</td>\n",
       "      <td>other</td>\n",
       "      <td>black</td>\n",
       "      <td>None</td>\n",
       "      <td>man</td>\n",
       "      <td>5.0</td>\n",
       "      <td>5.0</td>\n",
       "      <td>gasoline</td>\n",
       "      <td>2016-11-09 16:03:20.71388+00</td>\n",
       "      <td>2016-01-27 20:40:15.46361+00</td>\n",
       "    </tr>\n",
       "    <tr>\n",
       "      <th>freq</th>\n",
       "      <td>313830</td>\n",
       "      <td>129563</td>\n",
       "      <td>1964289</td>\n",
       "      <td>42931</td>\n",
       "      <td>1308651</td>\n",
       "      <td>2021990</td>\n",
       "      <td>777522.0</td>\n",
       "      <td>1084557.0</td>\n",
       "      <td>902222</td>\n",
       "      <td>1</td>\n",
       "      <td>197856</td>\n",
       "    </tr>\n",
       "  </tbody>\n",
       "</table>\n",
       "</div>"
      ],
      "text/plain": [
       "          maker    model body_type color_slug stk_year transmission  \\\n",
       "count   3033997  2419551   2429998     209501  1844756      2811282   \n",
       "unique       46     1012         9         14      298            2   \n",
       "top       skoda  octavia     other      black     None          man   \n",
       "freq     313830   129563   1964289      42931  1308651      2021990   \n",
       "\n",
       "        door_count  seat_count fuel_type                  date_created  \\\n",
       "count    2938539.0   2803423.0   1705306                       3552912   \n",
       "unique        26.0        88.0         5                       3552912   \n",
       "top            5.0         5.0  gasoline  2016-11-09 16:03:20.71388+00   \n",
       "freq      777522.0   1084557.0    902222                             1   \n",
       "\n",
       "                      date_last_seen  \n",
       "count                        3552912  \n",
       "unique                       3355057  \n",
       "top     2016-01-27 20:40:15.46361+00  \n",
       "freq                          197856  "
      ]
     },
     "execution_count": 7,
     "metadata": {},
     "output_type": "execute_result"
    }
   ],
   "source": [
    "data.describe(include = 'object')"
   ]
  },
  {
   "cell_type": "code",
   "execution_count": 8,
   "metadata": {},
   "outputs": [
    {
     "name": "stdout",
     "output_type": "stream",
     "text": [
      "\n",
      "\n",
      "************************\n",
      "Unique count for column:maker\n",
      "\n",
      "skoda            313830\n",
      "volkswagen       297256\n",
      "bmw              266731\n",
      "mercedes-benz    251966\n",
      "audi             248602\n",
      "ford             240556\n",
      "opel             217708\n",
      "fiat             132669\n",
      "citroen          121913\n",
      "renault          106831\n",
      "peugeot           92130\n",
      "hyundai           80602\n",
      "seat              74645\n",
      "toyota            72908\n",
      "nissan            68008\n",
      "kia               48607\n",
      "volvo             48271\n",
      "mazda             45666\n",
      "mini              35678\n",
      "smart             32918\n",
      "suzuki            31184\n",
      "mitsubishi        28463\n",
      "honda             26225\n",
      "porsche           24317\n",
      "chevrolet         20856\n",
      "rover             20611\n",
      "jeep              17075\n",
      "lancia            13759\n",
      "subaru            10107\n",
      "jaguar            10056\n",
      "chrysler           9296\n",
      "dodge              5223\n",
      "alfa-romeo         4734\n",
      "lexus              3911\n",
      "dacia              2024\n",
      "maserati           1912\n",
      "land-rover         1721\n",
      "isuzu              1427\n",
      "bentley            1081\n",
      "hummer              731\n",
      "lamborghini         554\n",
      "infinity            506\n",
      "lotus               426\n",
      "tesla               235\n",
      "rolls-royce          46\n",
      "aston-martin         22\n",
      "Name: maker, dtype: int64\n",
      "\n",
      "\n",
      "************************\n",
      "Unique count for column:model\n",
      "\n",
      "octavia       129563\n",
      "fabia          91401\n",
      "golf           91234\n",
      "focus          61137\n",
      "astra          58376\n",
      "               ...  \n",
      "cls250-cdi         1\n",
      "rogue              1\n",
      "435xd              1\n",
      "stanza             1\n",
      "c180e              1\n",
      "Name: model, Length: 1012, dtype: int64\n",
      "\n",
      "\n",
      "************************\n",
      "Unique count for column:body_type\n",
      "\n",
      "other           1964289\n",
      "compact          241948\n",
      "coupe             70576\n",
      "stationwagon      69895\n",
      "van               31300\n",
      "offroad           22549\n",
      "sedan             19669\n",
      "convertible        5332\n",
      "transporter        4440\n",
      "Name: body_type, dtype: int64\n",
      "\n",
      "\n",
      "************************\n",
      "Unique count for column:color_slug\n",
      "\n",
      "black     42931\n",
      "white     40835\n",
      "blue      37290\n",
      "silver    32091\n",
      "red       20418\n",
      "green      9144\n",
      "brown      8971\n",
      "grey       6590\n",
      "beige      4324\n",
      "yellow     2173\n",
      "gold       1947\n",
      "orange     1741\n",
      "violet      811\n",
      "bronze      235\n",
      "Name: color_slug, dtype: int64\n",
      "\n",
      "\n",
      "************************\n",
      "Unique count for column:stk_year\n",
      "\n",
      "None      1308651\n",
      "2018.0     169746\n",
      "2017.0     142800\n",
      "2016.0      98793\n",
      "2019.0      41482\n",
      "           ...   \n",
      "6052.0          1\n",
      "6049.0          1\n",
      "6042.0          1\n",
      "6000.0          1\n",
      "4490.0          1\n",
      "Name: stk_year, Length: 298, dtype: int64\n",
      "\n",
      "\n",
      "************************\n",
      "Unique count for column:transmission\n",
      "\n",
      "man     2021990\n",
      "auto     789292\n",
      "Name: transmission, dtype: int64\n",
      "\n",
      "\n",
      "************************\n",
      "Unique count for column:door_count\n",
      "\n",
      "5.0     777522\n",
      "4       636217\n",
      "4.0     494524\n",
      "None    475693\n",
      "2       164077\n",
      "2.0     143747\n",
      "5       116562\n",
      "3.0     106527\n",
      "3        14066\n",
      "0.0       8010\n",
      "6.0        906\n",
      "6          347\n",
      "1.0        259\n",
      "7.0         41\n",
      "1           14\n",
      "55.0         9\n",
      "9.0          4\n",
      "58.0         3\n",
      "8.0          3\n",
      "7            2\n",
      "54.0         1\n",
      "49.0         1\n",
      "22.0         1\n",
      "17.0         1\n",
      "77.0         1\n",
      "45.0         1\n",
      "Name: door_count, dtype: int64\n",
      "\n",
      "\n",
      "************************\n",
      "Unique count for column:seat_count\n",
      "\n",
      "5.0     1084557\n",
      "5        683311\n",
      "None     537610\n",
      "4.0      147294\n",
      "4         97503\n",
      "         ...   \n",
      "59.0          1\n",
      "255           1\n",
      "43.0          1\n",
      "27.0          1\n",
      "22            1\n",
      "Name: seat_count, Length: 88, dtype: int64\n",
      "\n",
      "\n",
      "************************\n",
      "Unique count for column:fuel_type\n",
      "\n",
      "gasoline    902222\n",
      "diesel      768207\n",
      "electric     26350\n",
      "lpg           7403\n",
      "cng           1124\n",
      "Name: fuel_type, dtype: int64\n",
      "\n",
      "\n",
      "************************\n",
      "Unique count for column:date_created\n",
      "\n",
      "2016-11-09 16:03:20.71388+00     1\n",
      "2015-12-22 07:09:23.729395+00    1\n",
      "2016-02-18 06:51:08.444569+00    1\n",
      "2015-11-29 21:45:25.286584+00    1\n",
      "2016-02-10 20:12:22.77037+00     1\n",
      "                                ..\n",
      "2017-02-10 18:24:59.025857+00    1\n",
      "2016-02-20 12:03:48.014064+00    1\n",
      "2016-02-13 19:38:54.281104+00    1\n",
      "2015-12-19 01:48:10.931667+00    1\n",
      "2016-02-12 02:30:19.536678+00    1\n",
      "Name: date_created, Length: 3552912, dtype: int64\n",
      "\n",
      "\n",
      "************************\n",
      "Unique count for column:date_last_seen\n",
      "\n",
      "2016-01-27 20:40:15.46361+00     197856\n",
      "2016-12-08 07:40:45.525989+00         1\n",
      "2015-12-28 05:31:49.821363+00         1\n",
      "2016-01-19 21:17:36.848107+00         1\n",
      "2016-07-14 16:50:45.870549+00         1\n",
      "                                  ...  \n",
      "2016-07-03 18:52:00.770682+00         1\n",
      "2016-07-03 16:56:13.357365+00         1\n",
      "2016-07-03 17:13:14.993917+00         1\n",
      "2015-12-15 01:01:03.405447+00         1\n",
      "2016-02-28 03:00:20.988531+00         1\n",
      "Name: date_last_seen, Length: 3355057, dtype: int64\n"
     ]
    }
   ],
   "source": [
    "#Lets watch each category count of the categorical variables\n",
    "for cols in data:\n",
    "    if data[cols].dtypes == 'object':\n",
    "        \n",
    "        print(\"\\n\")\n",
    "        print(\"************************\")\n",
    "        print(\"Unique count for column:{}\\n\".format(cols))\n",
    "        \n",
    "        print(data[cols].value_counts())"
   ]
  },
  {
   "cell_type": "markdown",
   "metadata": {},
   "source": [
    "data_created and data_last_seen column contains data and time of data. Let's just keep date. We willn't using time of data. So let's only keep data."
   ]
  },
  {
   "cell_type": "code",
   "execution_count": 9,
   "metadata": {},
   "outputs": [],
   "source": [
    "data['date_created'] = data['date_created'].apply(lambda x: x.split()[0])\n",
    "data['date_last_seen'] = data['date_last_seen'].apply(lambda x: x.split()[0])\n"
   ]
  },
  {
   "cell_type": "code",
   "execution_count": 10,
   "metadata": {},
   "outputs": [
    {
     "data": {
      "text/plain": [
       "0          2015-11-14\n",
       "1          2015-11-14\n",
       "2          2015-11-14\n",
       "3          2015-11-14\n",
       "4          2015-11-14\n",
       "              ...    \n",
       "3552907    2017-03-16\n",
       "3552908    2017-03-16\n",
       "3552909    2017-03-16\n",
       "3552910    2017-03-16\n",
       "3552911    2017-03-16\n",
       "Name: date_created, Length: 3552912, dtype: object"
      ]
     },
     "execution_count": 10,
     "metadata": {},
     "output_type": "execute_result"
    }
   ],
   "source": [
    "data['date_created']"
   ]
  },
  {
   "cell_type": "markdown",
   "metadata": {},
   "source": [
    "Let's see scatter plot of date_last_seen and euro price"
   ]
  },
  {
   "cell_type": "code",
   "execution_count": 11,
   "metadata": {},
   "outputs": [
    {
     "data": {
      "text/plain": [
       "<matplotlib.collections.PathCollection at 0x7fc9d2d65d30>"
      ]
     },
     "execution_count": 11,
     "metadata": {},
     "output_type": "execute_result"
    },
    {
     "data": {
      "image/png": "[encoded data removed]",
      "text/plain": [
       "<Figure size 2880x576 with 1 Axes>"
      ]
     },
     "metadata": {},
     "output_type": "display_data"
    }
   ],
   "source": [
    "import matplotlib\n",
    "b = data[['date_last_seen','price_eur']]\n",
    "b['date_last_seen'] = pd.to_datetime(b['date_last_seen'])\n",
    "matplotlib.rcParams['figure.figsize']= (40,8)\n",
    "plt.scatter(b['date_last_seen'], b['price_eur'])"
   ]
  },
  {
   "cell_type": "markdown",
   "metadata": {},
   "source": [
    "### Working with missing values"
   ]
  },
  {
   "cell_type": "markdown",
   "metadata": {},
   "source": [
    "Let's drop `color_slug` because it contains more missing values. Also, let's make assumption that it wont hamper to our model"
   ]
  },
  {
   "cell_type": "code",
   "execution_count": 12,
   "metadata": {},
   "outputs": [
    {
     "data": {
      "text/html": [
       "<div>\n",
       "<style scoped>\n",
       "    .dataframe tbody tr th:only-of-type {\n",
       "        vertical-align: middle;\n",
       "    }\n",
       "\n",
       "    .dataframe tbody tr th {\n",
       "        vertical-align: top;\n",
       "    }\n",
       "\n",
       "    .dataframe thead th {\n",
       "        text-align: right;\n",
       "    }\n",
       "</style>\n",
       "<table border=\"1\" class=\"dataframe\">\n",
       "  <thead>\n",
       "    <tr style=\"text-align: right;\">\n",
       "      <th></th>\n",
       "      <th>maker</th>\n",
       "      <th>model</th>\n",
       "      <th>mileage</th>\n",
       "      <th>manufacture_year</th>\n",
       "      <th>engine_displacement</th>\n",
       "      <th>engine_power</th>\n",
       "      <th>body_type</th>\n",
       "      <th>stk_year</th>\n",
       "      <th>transmission</th>\n",
       "      <th>door_count</th>\n",
       "      <th>seat_count</th>\n",
       "      <th>fuel_type</th>\n",
       "      <th>date_created</th>\n",
       "      <th>date_last_seen</th>\n",
       "      <th>price_eur</th>\n",
       "    </tr>\n",
       "  </thead>\n",
       "  <tbody>\n",
       "    <tr>\n",
       "      <th>0</th>\n",
       "      <td>ford</td>\n",
       "      <td>galaxy</td>\n",
       "      <td>151000.0</td>\n",
       "      <td>2011.0</td>\n",
       "      <td>2000.0</td>\n",
       "      <td>103.0</td>\n",
       "      <td>NaN</td>\n",
       "      <td>None</td>\n",
       "      <td>man</td>\n",
       "      <td>5</td>\n",
       "      <td>7</td>\n",
       "      <td>diesel</td>\n",
       "      <td>2015-11-14</td>\n",
       "      <td>2016-01-27</td>\n",
       "      <td>10584.75</td>\n",
       "    </tr>\n",
       "    <tr>\n",
       "      <th>1</th>\n",
       "      <td>skoda</td>\n",
       "      <td>octavia</td>\n",
       "      <td>143476.0</td>\n",
       "      <td>2012.0</td>\n",
       "      <td>2000.0</td>\n",
       "      <td>81.0</td>\n",
       "      <td>NaN</td>\n",
       "      <td>None</td>\n",
       "      <td>man</td>\n",
       "      <td>5</td>\n",
       "      <td>5</td>\n",
       "      <td>diesel</td>\n",
       "      <td>2015-11-14</td>\n",
       "      <td>2016-01-27</td>\n",
       "      <td>8882.31</td>\n",
       "    </tr>\n",
       "    <tr>\n",
       "      <th>2</th>\n",
       "      <td>bmw</td>\n",
       "      <td>NaN</td>\n",
       "      <td>97676.0</td>\n",
       "      <td>2010.0</td>\n",
       "      <td>1995.0</td>\n",
       "      <td>85.0</td>\n",
       "      <td>NaN</td>\n",
       "      <td>None</td>\n",
       "      <td>man</td>\n",
       "      <td>5</td>\n",
       "      <td>5</td>\n",
       "      <td>diesel</td>\n",
       "      <td>2015-11-14</td>\n",
       "      <td>2016-01-27</td>\n",
       "      <td>12065.06</td>\n",
       "    </tr>\n",
       "    <tr>\n",
       "      <th>3</th>\n",
       "      <td>skoda</td>\n",
       "      <td>fabia</td>\n",
       "      <td>111970.0</td>\n",
       "      <td>2004.0</td>\n",
       "      <td>1200.0</td>\n",
       "      <td>47.0</td>\n",
       "      <td>NaN</td>\n",
       "      <td>None</td>\n",
       "      <td>man</td>\n",
       "      <td>5</td>\n",
       "      <td>5</td>\n",
       "      <td>gasoline</td>\n",
       "      <td>2015-11-14</td>\n",
       "      <td>2016-01-27</td>\n",
       "      <td>2960.77</td>\n",
       "    </tr>\n",
       "    <tr>\n",
       "      <th>4</th>\n",
       "      <td>skoda</td>\n",
       "      <td>fabia</td>\n",
       "      <td>128886.0</td>\n",
       "      <td>2004.0</td>\n",
       "      <td>1200.0</td>\n",
       "      <td>47.0</td>\n",
       "      <td>NaN</td>\n",
       "      <td>None</td>\n",
       "      <td>man</td>\n",
       "      <td>5</td>\n",
       "      <td>5</td>\n",
       "      <td>gasoline</td>\n",
       "      <td>2015-11-14</td>\n",
       "      <td>2016-01-27</td>\n",
       "      <td>2738.71</td>\n",
       "    </tr>\n",
       "  </tbody>\n",
       "</table>\n",
       "</div>"
      ],
      "text/plain": [
       "   maker    model   mileage  manufacture_year  engine_displacement  \\\n",
       "0   ford   galaxy  151000.0            2011.0               2000.0   \n",
       "1  skoda  octavia  143476.0            2012.0               2000.0   \n",
       "2    bmw      NaN   97676.0            2010.0               1995.0   \n",
       "3  skoda    fabia  111970.0            2004.0               1200.0   \n",
       "4  skoda    fabia  128886.0            2004.0               1200.0   \n",
       "\n",
       "   engine_power body_type stk_year transmission door_count seat_count  \\\n",
       "0         103.0       NaN     None          man          5          7   \n",
       "1          81.0       NaN     None          man          5          5   \n",
       "2          85.0       NaN     None          man          5          5   \n",
       "3          47.0       NaN     None          man          5          5   \n",
       "4          47.0       NaN     None          man          5          5   \n",
       "\n",
       "  fuel_type date_created date_last_seen  price_eur  \n",
       "0    diesel   2015-11-14     2016-01-27   10584.75  \n",
       "1    diesel   2015-11-14     2016-01-27    8882.31  \n",
       "2    diesel   2015-11-14     2016-01-27   12065.06  \n",
       "3  gasoline   2015-11-14     2016-01-27    2960.77  \n",
       "4  gasoline   2015-11-14     2016-01-27    2738.71  "
      ]
     },
     "execution_count": 12,
     "metadata": {},
     "output_type": "execute_result"
    }
   ],
   "source": [
    "new_data = data.drop(['color_slug'], axis=1)\n",
    "new_data.head()"
   ]
  },
  {
   "cell_type": "markdown",
   "metadata": {},
   "source": [
    "Let's check variable `door_count` and `seat_count`"
   ]
  },
  {
   "cell_type": "code",
   "execution_count": 13,
   "metadata": {},
   "outputs": [
    {
     "name": "stdout",
     "output_type": "stream",
     "text": [
      "Unique values of door_Count: ['5' '3' '4' 'None' '2' '6' '1' '7' nan 5.0 4.0 3.0 2.0 6.0 1.0 9.0 7.0\n",
      " 8.0 77.0 58.0 54.0 0.0 55.0 22.0 45.0 17.0 49.0]\n",
      "************************************\n",
      "Unique values of seat_Count: ['7' '5' '4' 'None' '6' '9' '8' '2' '3' '1' '18' '20' '10' '11' '15' '12'\n",
      " '16' '14' '50' '17' '74' '65' '19' '54' '13' '27' '45' '24' '56' '22'\n",
      " '255' '23' '57' '25' nan 5.0 3.0 4.0 2.0 7.0 8.0 6.0 9.0 23.0 1.0 51.0\n",
      " 12.0 15.0 14.0 55.0 19.0 61.0 21.0 13.0 17.0 20.0 10.0 11.0 18.0 45.0\n",
      " 27.0 53.0 26.0 56.0 58.0 25.0 30.0 36.0 54.0 24.0 16.0 57.0 74.0 50.0 0.0\n",
      " 29.0 52.0 32.0 44.0 512.0 33.0 515.0 59.0 85.0 517.0 81.0 43.0 49.0 138.0]\n"
     ]
    }
   ],
   "source": [
    "\n",
    "print(\"Unique values of door_Count:\", new_data['door_count'].unique())\n",
    "print(\"************************************\")\n",
    "print(\"Unique values of seat_Count:\", new_data['seat_count'].unique())"
   ]
  },
  {
   "cell_type": "markdown",
   "metadata": {},
   "source": [
    "We got 'None' as one unique value in both variables. That may the mistake during entry. So, we will do \n",
    "\n",
    "1. Change 'None' value to nan\n",
    "2. Then convert dtype from object to float i.e numeric."
   ]
  },
  {
   "cell_type": "code",
   "execution_count": 14,
   "metadata": {},
   "outputs": [],
   "source": [
    "new_data['door_count'] = new_data['door_count'].replace('None', np.nan).astype(float)\n",
    "new_data['seat_count'] = new_data['seat_count'].replace('None', np.nan).astype(float)"
   ]
  },
  {
   "cell_type": "markdown",
   "metadata": {},
   "source": [
    "Impute `door_count` and `seat_count` with mode "
   ]
  },
  {
   "cell_type": "code",
   "execution_count": 15,
   "metadata": {},
   "outputs": [],
   "source": [
    "new_data['door_count'].fillna(new_data['door_count'].mode()[0], inplace=True)\n",
    "new_data['seat_count'].fillna(new_data['seat_count'].mode()[0], inplace=True)\n"
   ]
  },
  {
   "cell_type": "markdown",
   "metadata": {},
   "source": [
    "For transmission\n",
    "\n",
    "categorical dataset\n",
    " The map method can be used to replace values in a column by passing \n",
    " a dictionary of the form {old_value: new_value} as its argument:"
   ]
  },
  {
   "cell_type": "code",
   "execution_count": 16,
   "metadata": {},
   "outputs": [],
   "source": [
    "d = {'man': 1, 'auto': 0} \n",
    "\n",
    "#convert categirical to numerical\n",
    "new_data= new_data.replace({'transmission': d})\n",
    "\n",
    "new_data['transmission'].fillna(new_data['transmission'].mode()[0], inplace=True)\n",
    "\n"
   ]
  },
  {
   "cell_type": "code",
   "execution_count": 17,
   "metadata": {},
   "outputs": [
    {
     "data": {
      "text/plain": [
       "maker                  0.146053\n",
       "model                  0.318995\n",
       "mileage                0.102053\n",
       "manufacture_year       0.104303\n",
       "engine_displacement    0.209241\n",
       "engine_power           0.156175\n",
       "body_type              0.316055\n",
       "stk_year               0.480776\n",
       "transmission           0.000000\n",
       "door_count             0.000000\n",
       "seat_count             0.000000\n",
       "fuel_type              0.520026\n",
       "date_created           0.000000\n",
       "date_last_seen         0.000000\n",
       "price_eur              0.000000\n",
       "dtype: float64"
      ]
     },
     "execution_count": 17,
     "metadata": {},
     "output_type": "execute_result"
    }
   ],
   "source": [
    "new_data.isnull().mean()"
   ]
  },
  {
   "cell_type": "code",
   "execution_count": 18,
   "metadata": {},
   "outputs": [
    {
     "data": {
      "text/html": [
       "<div>\n",
       "<style scoped>\n",
       "    .dataframe tbody tr th:only-of-type {\n",
       "        vertical-align: middle;\n",
       "    }\n",
       "\n",
       "    .dataframe tbody tr th {\n",
       "        vertical-align: top;\n",
       "    }\n",
       "\n",
       "    .dataframe thead th {\n",
       "        text-align: right;\n",
       "    }\n",
       "</style>\n",
       "<table border=\"1\" class=\"dataframe\">\n",
       "  <thead>\n",
       "    <tr style=\"text-align: right;\">\n",
       "      <th></th>\n",
       "      <th></th>\n",
       "      <th>engine_power</th>\n",
       "    </tr>\n",
       "    <tr>\n",
       "      <th>maker</th>\n",
       "      <th>model</th>\n",
       "      <th></th>\n",
       "    </tr>\n",
       "  </thead>\n",
       "  <tbody>\n",
       "    <tr>\n",
       "      <th rowspan=\"5\" valign=\"top\">alfa-romeo</th>\n",
       "      <th>145</th>\n",
       "      <td>77.0</td>\n",
       "    </tr>\n",
       "    <tr>\n",
       "      <th>146</th>\n",
       "      <td>77.0</td>\n",
       "    </tr>\n",
       "    <tr>\n",
       "      <th>147</th>\n",
       "      <td>85.0</td>\n",
       "    </tr>\n",
       "    <tr>\n",
       "      <th>155</th>\n",
       "      <td>103.0</td>\n",
       "    </tr>\n",
       "    <tr>\n",
       "      <th>156</th>\n",
       "      <td>103.0</td>\n",
       "    </tr>\n",
       "    <tr>\n",
       "      <th>...</th>\n",
       "      <th>...</th>\n",
       "      <td>...</td>\n",
       "    </tr>\n",
       "    <tr>\n",
       "      <th rowspan=\"5\" valign=\"top\">volvo</th>\n",
       "      <th>v70</th>\n",
       "      <td>120.0</td>\n",
       "    </tr>\n",
       "    <tr>\n",
       "      <th>v90</th>\n",
       "      <td>173.0</td>\n",
       "    </tr>\n",
       "    <tr>\n",
       "      <th>xc60</th>\n",
       "      <td>133.0</td>\n",
       "    </tr>\n",
       "    <tr>\n",
       "      <th>xc70</th>\n",
       "      <td>136.0</td>\n",
       "    </tr>\n",
       "    <tr>\n",
       "      <th>xc90</th>\n",
       "      <td>140.0</td>\n",
       "    </tr>\n",
       "  </tbody>\n",
       "</table>\n",
       "<p>1092 rows × 1 columns</p>\n",
       "</div>"
      ],
      "text/plain": [
       "                  engine_power\n",
       "maker      model              \n",
       "alfa-romeo 145            77.0\n",
       "           146            77.0\n",
       "           147            85.0\n",
       "           155           103.0\n",
       "           156           103.0\n",
       "...                        ...\n",
       "volvo      v70           120.0\n",
       "           v90           173.0\n",
       "           xc60          133.0\n",
       "           xc70          136.0\n",
       "           xc90          140.0\n",
       "\n",
       "[1092 rows x 1 columns]"
      ]
     },
     "execution_count": 18,
     "metadata": {},
     "output_type": "execute_result"
    }
   ],
   "source": [
    "medium_value = new_data.pivot_table(values = 'engine_power', \n",
    "                               index = [ 'maker', 'model'], aggfunc = np.median)\n",
    "medium_value"
   ]
  },
  {
   "cell_type": "code",
   "execution_count": 19,
   "metadata": {},
   "outputs": [
    {
     "data": {
      "text/plain": [
       "maker                   518915\n",
       "model                  1133361\n",
       "mileage                 362584\n",
       "manufacture_year        370578\n",
       "engine_displacement     743414\n",
       "engine_power            229285\n",
       "body_type              1122914\n",
       "stk_year               1708156\n",
       "transmission                 0\n",
       "door_count                   0\n",
       "seat_count                   0\n",
       "fuel_type              1847606\n",
       "date_created                 0\n",
       "date_last_seen               0\n",
       "price_eur                    0\n",
       "dtype: int64"
      ]
     },
     "execution_count": 19,
     "metadata": {},
     "output_type": "execute_result"
    }
   ],
   "source": [
    "new_data['engine_power']= new_data['engine_power'].fillna(new_data.groupby(['maker','model'])['engine_power'].transform('median'))\n",
    "#Null value on remaining tuples\n",
    "new_data.apply(lambda x: sum(x.isnull()))"
   ]
  },
  {
   "cell_type": "code",
   "execution_count": 20,
   "metadata": {},
   "outputs": [
    {
     "data": {
      "text/plain": [
       "maker                   518915\n",
       "model                  1133361\n",
       "mileage                 362584\n",
       "manufacture_year        370578\n",
       "engine_displacement     743414\n",
       "engine_power            229214\n",
       "body_type              1122914\n",
       "stk_year               1708156\n",
       "transmission                 0\n",
       "door_count                   0\n",
       "seat_count                   0\n",
       "fuel_type              1847606\n",
       "date_created                 0\n",
       "date_last_seen               0\n",
       "price_eur                    0\n",
       "dtype: int64"
      ]
     },
     "execution_count": 20,
     "metadata": {},
     "output_type": "execute_result"
    }
   ],
   "source": [
    "new_data['engine_power']= new_data['engine_power'].fillna(new_data.groupby(['model'])['engine_power'].transform('median'))\n",
    "#Null value on remaining tuples\n",
    "new_data.apply(lambda x: sum(x.isnull()))"
   ]
  },
  {
   "cell_type": "code",
   "execution_count": 21,
   "metadata": {},
   "outputs": [
    {
     "name": "stdout",
     "output_type": "stream",
     "text": [
      "Remaining no. of tuples are: 3323698\n"
     ]
    },
    {
     "data": {
      "text/plain": [
       "<matplotlib.axes._subplots.AxesSubplot at 0x7fc9de92ea20>"
      ]
     },
     "execution_count": 21,
     "metadata": {},
     "output_type": "execute_result"
    },
    {
     "data": {
      "image/png": "[encoded data removed]",
      "text/plain": [
       "<Figure size 2880x576 with 1 Axes>"
      ]
     },
     "metadata": {},
     "output_type": "display_data"
    }
   ],
   "source": [
    "missing = new_data.loc[new_data['engine_power'].isnull()].index\n",
    "new_data.drop(missing, inplace = True)\n",
    "print(\"Remaining no. of tuples are:\",len(new_data))\n",
    "new_data.apply(lambda x: sum(x.isnull())).plot(kind = 'bar')"
   ]
  },
  {
   "cell_type": "markdown",
   "metadata": {},
   "source": [
    "Now, engine field doesnot have null values.\n",
    "\n",
    "Let's do the same with mileage field."
   ]
  },
  {
   "cell_type": "code",
   "execution_count": 22,
   "metadata": {},
   "outputs": [
    {
     "data": {
      "text/plain": [
       "<matplotlib.axes._subplots.AxesSubplot at 0x7fc9cdae19e8>"
      ]
     },
     "execution_count": 22,
     "metadata": {},
     "output_type": "execute_result"
    },
    {
     "data": {
      "image/png": "[encoded data removed]",
      "text/plain": [
       "<Figure size 2880x576 with 1 Axes>"
      ]
     },
     "metadata": {},
     "output_type": "display_data"
    }
   ],
   "source": [
    "new_data['mileage']= new_data['mileage'].fillna(new_data.groupby(['maker','model'])['mileage'].transform('median'))\n",
    "new_data['mileage']= new_data['mileage'].fillna(new_data.groupby(['model'])['mileage'].transform('median'))\n",
    "new_data['mileage']= new_data['mileage'].fillna(new_data.groupby(['manufacture_year'])['mileage'].transform('median'))\n",
    "new_data['mileage'] = new_data['mileage'].fillna(new_data['mileage'].median())\n",
    "new_data.apply(lambda x: sum(x.isnull())).plot(kind = 'bar')"
   ]
  },
  {
   "cell_type": "code",
   "execution_count": 23,
   "metadata": {},
   "outputs": [
    {
     "data": {
      "text/plain": [
       "maker                  0.114484\n",
       "model                  0.272044\n",
       "mileage                0.000000\n",
       "manufacture_year       0.092430\n",
       "engine_displacement    0.168208\n",
       "engine_power           0.000000\n",
       "body_type              0.312001\n",
       "stk_year               0.494006\n",
       "transmission           0.000000\n",
       "door_count             0.000000\n",
       "seat_count             0.000000\n",
       "fuel_type              0.535858\n",
       "date_created           0.000000\n",
       "date_last_seen         0.000000\n",
       "price_eur              0.000000\n",
       "dtype: float64"
      ]
     },
     "execution_count": 23,
     "metadata": {},
     "output_type": "execute_result"
    }
   ],
   "source": [
    "new_data.isnull().mean()"
   ]
  },
  {
   "cell_type": "markdown",
   "metadata": {},
   "source": [
    "Null values in 'maker' column is filled with mode or highest frequency value."
   ]
  },
  {
   "cell_type": "code",
   "execution_count": 24,
   "metadata": {},
   "outputs": [],
   "source": [
    "new_data['maker'].fillna(new_data['maker'].mode()[0], inplace=True)"
   ]
  },
  {
   "cell_type": "markdown",
   "metadata": {},
   "source": [
    "Impute:\n",
    "\n",
    "1. `manufacture_year` using mean and groupby with `maker` and `manufacture_year` \n",
    "2. `engine_displacement` using mode."
   ]
  },
  {
   "cell_type": "code",
   "execution_count": 25,
   "metadata": {},
   "outputs": [],
   "source": [
    "new_data[\"manufacture_year\"] = new_data.groupby(\"maker\")['manufacture_year'].transform(lambda x: x.fillna(x.mean()))"
   ]
  },
  {
   "cell_type": "code",
   "execution_count": 26,
   "metadata": {},
   "outputs": [],
   "source": [
    "new_data['engine_displacement'].fillna(new_data['engine_displacement'].mode()[0], inplace=True)"
   ]
  },
  {
   "cell_type": "code",
   "execution_count": 27,
   "metadata": {},
   "outputs": [],
   "source": [
    "new_data.drop(['body_type', 'stk_year' ], axis=1, inplace=True)"
   ]
  },
  {
   "cell_type": "markdown",
   "metadata": {},
   "source": [
    "### Correlation\n",
    "\n",
    "Let's see correlation plot between numerical variables"
   ]
  },
  {
   "cell_type": "code",
   "execution_count": 28,
   "metadata": {},
   "outputs": [],
   "source": [
    "correlation = new_data.corr()\n",
    "# sns.heatmap(data = correlation, annot = True)"
   ]
  },
  {
   "cell_type": "markdown",
   "metadata": {},
   "source": [
    "Let's see how other features are correlated with our desired output feature: `price_eur`.\n"
   ]
  },
  {
   "cell_type": "code",
   "execution_count": 29,
   "metadata": {},
   "outputs": [
    {
     "data": {
      "text/plain": [
       "price_eur              1.000000\n",
       "transmission           0.000296\n",
       "seat_count             0.000048\n",
       "engine_displacement    0.000007\n",
       "mileage               -0.000009\n",
       "manufacture_year      -0.000020\n",
       "door_count            -0.000030\n",
       "engine_power          -0.000430\n",
       "Name: price_eur, dtype: float64"
      ]
     },
     "execution_count": 29,
     "metadata": {},
     "output_type": "execute_result"
    }
   ],
   "source": [
    "correlation['price_eur'].sort_values(ascending = False)"
   ]
  },
  {
   "cell_type": "markdown",
   "metadata": {},
   "source": [
    "#### Outlier\n",
    "\n",
    "Let's see the outlier in numerical variables."
   ]
  },
  {
   "cell_type": "code",
   "execution_count": 31,
   "metadata": {},
   "outputs": [],
   "source": [
    "numerical_clos = ['mileage', 'manufacture_year', 'engine_displacement',\n",
    "                    'engine_power', 'transmission', 'door_count',\n",
    "                    'seat_count', 'price_eur']\n",
    "# data_out.head(2)"
   ]
  },
  {
   "cell_type": "code",
   "execution_count": 32,
   "metadata": {},
   "outputs": [
    {
     "data": {
      "text/plain": [
       "<matplotlib.axes._subplots.AxesSubplot at 0x7fc9e6ce7fd0>"
      ]
     },
     "execution_count": 32,
     "metadata": {},
     "output_type": "execute_result"
    },
    {
     "data": {
      "image/png": "[encoded data removed]",
      "text/plain": [
       "<Figure size 1440x504 with 1 Axes>"
      ]
     },
     "metadata": {},
     "output_type": "display_data"
    }
   ],
   "source": [
    "plt.figure(figsize=(20,7))\n",
    "new_data.boxplot(numerical_clos)"
   ]
  },
  {
   "cell_type": "markdown",
   "metadata": {},
   "source": [
    "Outlier in `price_eur` and `engine_power` using boxplot"
   ]
  },
  {
   "cell_type": "code",
   "execution_count": 33,
   "metadata": {},
   "outputs": [
    {
     "data": {
      "text/plain": [
       "<matplotlib.axes._subplots.AxesSubplot at 0x7fc9d202b080>"
      ]
     },
     "execution_count": 33,
     "metadata": {},
     "output_type": "execute_result"
    },
    {
     "data": {
      "image/png": "[encoded data removed]",
      "text/plain": [
       "<Figure size 2880x576 with 1 Axes>"
      ]
     },
     "metadata": {},
     "output_type": "display_data"
    }
   ],
   "source": [
    "sns.boxplot(y=new_data['price_eur'])"
   ]
  },
  {
   "cell_type": "code",
   "execution_count": 34,
   "metadata": {},
   "outputs": [
    {
     "data": {
      "text/plain": [
       "<matplotlib.axes._subplots.AxesSubplot at 0x7fc9ce51a358>"
      ]
     },
     "execution_count": 34,
     "metadata": {},
     "output_type": "execute_result"
    },
    {
     "data": {
      "image/png": "[encoded data removed]",
      "text/plain": [
       "<Figure size 2880x576 with 1 Axes>"
      ]
     },
     "metadata": {},
     "output_type": "display_data"
    }
   ],
   "source": [
    "sns.boxplot(y=new_data['engine_power'])"
   ]
  },
  {
   "cell_type": "code",
   "execution_count": null,
   "metadata": {},
   "outputs": [],
   "source": []
  }
 ],
 "metadata": {
  "kernelspec": {
   "display_name": "Python 3",
   "language": "python",
   "name": "python3"
  },
  "language_info": {
   "codemirror_mode": {
    "name": "ipython",
    "version": 3
   },
   "file_extension": ".py",
   "mimetype": "text/x-python",
   "name": "python",
   "nbconvert_exporter": "python",
   "pygments_lexer": "ipython3",
   "version": "3.6.9"
  }
 },
 "nbformat": 4,
 "nbformat_minor": 2
}
