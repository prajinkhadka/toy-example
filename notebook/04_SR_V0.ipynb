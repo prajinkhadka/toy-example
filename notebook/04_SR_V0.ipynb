{
 "cells": [
  {
   "cell_type": "code",
   "execution_count": 1,
   "metadata": {},
   "outputs": [],
   "source": [
    "import numpy as np\n",
    "import pandas as pd\n",
    "import matplotlib.pyplot as plt\n",
    "import seaborn as sns\n",
    "\n",
    "import warnings\n",
    "warnings.filterwarnings(\"ignore\")"
   ]
  },
  {
   "cell_type": "code",
   "execution_count": 2,
   "metadata": {},
   "outputs": [],
   "source": [
    "data = pd.read_csv('all_anonymized_2015_11_2017_03.csv')"
   ]
  },
  {
   "cell_type": "code",
   "execution_count": 3,
   "metadata": {},
   "outputs": [
    {
     "data": {
      "text/plain": [
       "Index(['maker', 'model', 'mileage', 'manufacture_year', 'engine_displacement',\n",
       "       'engine_power', 'body_type', 'color_slug', 'stk_year', 'transmission',\n",
       "       'door_count', 'seat_count', 'fuel_type', 'date_created',\n",
       "       'date_last_seen', 'price_eur'],\n",
       "      dtype='object')"
      ]
     },
     "execution_count": 3,
     "metadata": {},
     "output_type": "execute_result"
    }
   ],
   "source": [
    "data.columns"
   ]
  },
  {
   "cell_type": "code",
   "execution_count": 4,
   "metadata": {},
   "outputs": [
    {
     "data": {
      "text/plain": [
       "maker                   object\n",
       "model                   object\n",
       "mileage                float64\n",
       "manufacture_year       float64\n",
       "engine_displacement    float64\n",
       "engine_power           float64\n",
       "body_type               object\n",
       "color_slug              object\n",
       "stk_year                object\n",
       "transmission            object\n",
       "door_count              object\n",
       "seat_count              object\n",
       "fuel_type               object\n",
       "date_created            object\n",
       "date_last_seen          object\n",
       "price_eur              float64\n",
       "dtype: object"
      ]
     },
     "execution_count": 4,
     "metadata": {},
     "output_type": "execute_result"
    }
   ],
   "source": [
    "data.dtypes"
   ]
  },
  {
   "cell_type": "markdown",
   "metadata": {},
   "source": [
    "### Preprocessing\n",
    "\n",
    "Checking missing values in each variables. "
   ]
  },
  {
   "cell_type": "code",
   "execution_count": 5,
   "metadata": {},
   "outputs": [
    {
     "data": {
      "text/plain": [
       "maker                  0.146053\n",
       "model                  0.318995\n",
       "mileage                0.102053\n",
       "manufacture_year       0.104303\n",
       "engine_displacement    0.209241\n",
       "engine_power           0.156175\n",
       "body_type              0.316055\n",
       "color_slug             0.941034\n",
       "stk_year               0.480776\n",
       "transmission           0.208739\n",
       "door_count             0.172921\n",
       "seat_count             0.210951\n",
       "fuel_type              0.520026\n",
       "date_created           0.000000\n",
       "date_last_seen         0.000000\n",
       "price_eur              0.000000\n",
       "dtype: float64"
      ]
     },
     "execution_count": 5,
     "metadata": {},
     "output_type": "execute_result"
    }
   ],
   "source": [
    "data.isnull().mean()"
   ]
  },
  {
   "cell_type": "markdown",
   "metadata": {},
   "source": [
    " ### Statistics Visualize\n",
    " \n",
    " 1. Statistics of numerical data\n",
    " 2. Categorical Data"
   ]
  },
  {
   "cell_type": "code",
   "execution_count": 6,
   "metadata": {},
   "outputs": [
    {
     "data": {
      "text/html": [
       "<div>\n",
       "<style scoped>\n",
       "    .dataframe tbody tr th:only-of-type {\n",
       "        vertical-align: middle;\n",
       "    }\n",
       "\n",
       "    .dataframe tbody tr th {\n",
       "        vertical-align: top;\n",
       "    }\n",
       "\n",
       "    .dataframe thead th {\n",
       "        text-align: right;\n",
       "    }\n",
       "</style>\n",
       "<table border=\"1\" class=\"dataframe\">\n",
       "  <thead>\n",
       "    <tr style=\"text-align: right;\">\n",
       "      <th></th>\n",
       "      <th>mileage</th>\n",
       "      <th>manufacture_year</th>\n",
       "      <th>engine_displacement</th>\n",
       "      <th>engine_power</th>\n",
       "      <th>price_eur</th>\n",
       "    </tr>\n",
       "  </thead>\n",
       "  <tbody>\n",
       "    <tr>\n",
       "      <th>count</th>\n",
       "      <td>3.190328e+06</td>\n",
       "      <td>3.182334e+06</td>\n",
       "      <td>2.809498e+06</td>\n",
       "      <td>2.998035e+06</td>\n",
       "      <td>3.552912e+06</td>\n",
       "    </tr>\n",
       "    <tr>\n",
       "      <th>mean</th>\n",
       "      <td>1.158140e+05</td>\n",
       "      <td>2.000871e+03</td>\n",
       "      <td>2.043958e+03</td>\n",
       "      <td>9.846796e+01</td>\n",
       "      <td>1.625812e+06</td>\n",
       "    </tr>\n",
       "    <tr>\n",
       "      <th>std</th>\n",
       "      <td>3.422508e+05</td>\n",
       "      <td>8.172588e+01</td>\n",
       "      <td>1.973958e+03</td>\n",
       "      <td>4.907309e+01</td>\n",
       "      <td>2.025622e+09</td>\n",
       "    </tr>\n",
       "    <tr>\n",
       "      <th>min</th>\n",
       "      <td>0.000000e+00</td>\n",
       "      <td>0.000000e+00</td>\n",
       "      <td>0.000000e+00</td>\n",
       "      <td>1.000000e+00</td>\n",
       "      <td>4.000000e-02</td>\n",
       "    </tr>\n",
       "    <tr>\n",
       "      <th>25%</th>\n",
       "      <td>1.880000e+04</td>\n",
       "      <td>2.004000e+03</td>\n",
       "      <td>1.400000e+03</td>\n",
       "      <td>6.800000e+01</td>\n",
       "      <td>1.295340e+03</td>\n",
       "    </tr>\n",
       "    <tr>\n",
       "      <th>50%</th>\n",
       "      <td>8.641500e+04</td>\n",
       "      <td>2.009000e+03</td>\n",
       "      <td>1.798000e+03</td>\n",
       "      <td>8.600000e+01</td>\n",
       "      <td>7.364910e+03</td>\n",
       "    </tr>\n",
       "    <tr>\n",
       "      <th>75%</th>\n",
       "      <td>1.580250e+05</td>\n",
       "      <td>2.013000e+03</td>\n",
       "      <td>1.997000e+03</td>\n",
       "      <td>1.100000e+02</td>\n",
       "      <td>1.628423e+04</td>\n",
       "    </tr>\n",
       "    <tr>\n",
       "      <th>max</th>\n",
       "      <td>9.999999e+06</td>\n",
       "      <td>2.017000e+03</td>\n",
       "      <td>3.276700e+04</td>\n",
       "      <td>2.237000e+03</td>\n",
       "      <td>2.706149e+12</td>\n",
       "    </tr>\n",
       "  </tbody>\n",
       "</table>\n",
       "</div>"
      ],
      "text/plain": [
       "            mileage  manufacture_year  engine_displacement  engine_power  \\\n",
       "count  3.190328e+06      3.182334e+06         2.809498e+06  2.998035e+06   \n",
       "mean   1.158140e+05      2.000871e+03         2.043958e+03  9.846796e+01   \n",
       "std    3.422508e+05      8.172588e+01         1.973958e+03  4.907309e+01   \n",
       "min    0.000000e+00      0.000000e+00         0.000000e+00  1.000000e+00   \n",
       "25%    1.880000e+04      2.004000e+03         1.400000e+03  6.800000e+01   \n",
       "50%    8.641500e+04      2.009000e+03         1.798000e+03  8.600000e+01   \n",
       "75%    1.580250e+05      2.013000e+03         1.997000e+03  1.100000e+02   \n",
       "max    9.999999e+06      2.017000e+03         3.276700e+04  2.237000e+03   \n",
       "\n",
       "          price_eur  \n",
       "count  3.552912e+06  \n",
       "mean   1.625812e+06  \n",
       "std    2.025622e+09  \n",
       "min    4.000000e-02  \n",
       "25%    1.295340e+03  \n",
       "50%    7.364910e+03  \n",
       "75%    1.628423e+04  \n",
       "max    2.706149e+12  "
      ]
     },
     "execution_count": 6,
     "metadata": {},
     "output_type": "execute_result"
    }
   ],
   "source": [
    "data.describe(include = 'float64')"
   ]
  },
  {
   "cell_type": "code",
   "execution_count": 7,
   "metadata": {},
   "outputs": [
    {
     "data": {
      "text/html": [
       "<div>\n",
       "<style scoped>\n",
       "    .dataframe tbody tr th:only-of-type {\n",
       "        vertical-align: middle;\n",
       "    }\n",
       "\n",
       "    .dataframe tbody tr th {\n",
       "        vertical-align: top;\n",
       "    }\n",
       "\n",
       "    .dataframe thead th {\n",
       "        text-align: right;\n",
       "    }\n",
       "</style>\n",
       "<table border=\"1\" class=\"dataframe\">\n",
       "  <thead>\n",
       "    <tr style=\"text-align: right;\">\n",
       "      <th></th>\n",
       "      <th>maker</th>\n",
       "      <th>model</th>\n",
       "      <th>body_type</th>\n",
       "      <th>color_slug</th>\n",
       "      <th>stk_year</th>\n",
       "      <th>transmission</th>\n",
       "      <th>door_count</th>\n",
       "      <th>seat_count</th>\n",
       "      <th>fuel_type</th>\n",
       "      <th>date_created</th>\n",
       "      <th>date_last_seen</th>\n",
       "    </tr>\n",
       "  </thead>\n",
       "  <tbody>\n",
       "    <tr>\n",
       "      <th>count</th>\n",
       "      <td>3033997</td>\n",
       "      <td>2419551</td>\n",
       "      <td>2429998</td>\n",
       "      <td>209501</td>\n",
       "      <td>1844756</td>\n",
       "      <td>2811282</td>\n",
       "      <td>2938539.0</td>\n",
       "      <td>2803423.0</td>\n",
       "      <td>1705306</td>\n",
       "      <td>3552912</td>\n",
       "      <td>3552912</td>\n",
       "    </tr>\n",
       "    <tr>\n",
       "      <th>unique</th>\n",
       "      <td>46</td>\n",
       "      <td>1012</td>\n",
       "      <td>9</td>\n",
       "      <td>14</td>\n",
       "      <td>298</td>\n",
       "      <td>2</td>\n",
       "      <td>26.0</td>\n",
       "      <td>88.0</td>\n",
       "      <td>5</td>\n",
       "      <td>3552912</td>\n",
       "      <td>3355057</td>\n",
       "    </tr>\n",
       "    <tr>\n",
       "      <th>top</th>\n",
       "      <td>skoda</td>\n",
       "      <td>octavia</td>\n",
       "      <td>other</td>\n",
       "      <td>black</td>\n",
       "      <td>None</td>\n",
       "      <td>man</td>\n",
       "      <td>5.0</td>\n",
       "      <td>5.0</td>\n",
       "      <td>gasoline</td>\n",
       "      <td>2015-12-02 22:31:04.187308+00</td>\n",
       "      <td>2016-01-27 20:40:15.46361+00</td>\n",
       "    </tr>\n",
       "    <tr>\n",
       "      <th>freq</th>\n",
       "      <td>313830</td>\n",
       "      <td>129563</td>\n",
       "      <td>1964289</td>\n",
       "      <td>42931</td>\n",
       "      <td>1308651</td>\n",
       "      <td>2021990</td>\n",
       "      <td>777522.0</td>\n",
       "      <td>1084557.0</td>\n",
       "      <td>902222</td>\n",
       "      <td>1</td>\n",
       "      <td>197856</td>\n",
       "    </tr>\n",
       "  </tbody>\n",
       "</table>\n",
       "</div>"
      ],
      "text/plain": [
       "          maker    model body_type color_slug stk_year transmission  \\\n",
       "count   3033997  2419551   2429998     209501  1844756      2811282   \n",
       "unique       46     1012         9         14      298            2   \n",
       "top       skoda  octavia     other      black     None          man   \n",
       "freq     313830   129563   1964289      42931  1308651      2021990   \n",
       "\n",
       "        door_count  seat_count fuel_type                   date_created  \\\n",
       "count    2938539.0   2803423.0   1705306                        3552912   \n",
       "unique        26.0        88.0         5                        3552912   \n",
       "top            5.0         5.0  gasoline  2015-12-02 22:31:04.187308+00   \n",
       "freq      777522.0   1084557.0    902222                              1   \n",
       "\n",
       "                      date_last_seen  \n",
       "count                        3552912  \n",
       "unique                       3355057  \n",
       "top     2016-01-27 20:40:15.46361+00  \n",
       "freq                          197856  "
      ]
     },
     "execution_count": 7,
     "metadata": {},
     "output_type": "execute_result"
    }
   ],
   "source": [
    "data.describe(include = 'object')"
   ]
  },
  {
   "cell_type": "code",
   "execution_count": 8,
   "metadata": {},
   "outputs": [
    {
     "name": "stdout",
     "output_type": "stream",
     "text": [
      "\n",
      "\n",
      "************************\n",
      "Unique count for column:maker\n",
      "\n",
      "skoda            313830\n",
      "volkswagen       297256\n",
      "bmw              266731\n",
      "mercedes-benz    251966\n",
      "audi             248602\n",
      "ford             240556\n",
      "opel             217708\n",
      "fiat             132669\n",
      "citroen          121913\n",
      "renault          106831\n",
      "peugeot           92130\n",
      "hyundai           80602\n",
      "seat              74645\n",
      "toyota            72908\n",
      "nissan            68008\n",
      "kia               48607\n",
      "volvo             48271\n",
      "mazda             45666\n",
      "mini              35678\n",
      "smart             32918\n",
      "suzuki            31184\n",
      "mitsubishi        28463\n",
      "honda             26225\n",
      "porsche           24317\n",
      "chevrolet         20856\n",
      "rover             20611\n",
      "jeep              17075\n",
      "lancia            13759\n",
      "subaru            10107\n",
      "jaguar            10056\n",
      "chrysler           9296\n",
      "dodge              5223\n",
      "alfa-romeo         4734\n",
      "lexus              3911\n",
      "dacia              2024\n",
      "maserati           1912\n",
      "land-rover         1721\n",
      "isuzu              1427\n",
      "bentley            1081\n",
      "hummer              731\n",
      "lamborghini         554\n",
      "infinity            506\n",
      "lotus               426\n",
      "tesla               235\n",
      "rolls-royce          46\n",
      "aston-martin         22\n",
      "Name: maker, dtype: int64\n",
      "\n",
      "\n",
      "************************\n",
      "Unique count for column:model\n",
      "\n",
      "octavia      129563\n",
      "fabia         91401\n",
      "golf          91234\n",
      "focus         61137\n",
      "astra         58376\n",
      "              ...  \n",
      "stanza            1\n",
      "c180t             1\n",
      "ml250-cdi         1\n",
      "c180e             1\n",
      "c250-td           1\n",
      "Name: model, Length: 1012, dtype: int64\n",
      "\n",
      "\n",
      "************************\n",
      "Unique count for column:body_type\n",
      "\n",
      "other           1964289\n",
      "compact          241948\n",
      "coupe             70576\n",
      "stationwagon      69895\n",
      "van               31300\n",
      "offroad           22549\n",
      "sedan             19669\n",
      "convertible        5332\n",
      "transporter        4440\n",
      "Name: body_type, dtype: int64\n",
      "\n",
      "\n",
      "************************\n",
      "Unique count for column:color_slug\n",
      "\n",
      "black     42931\n",
      "white     40835\n",
      "blue      37290\n",
      "silver    32091\n",
      "red       20418\n",
      "green      9144\n",
      "brown      8971\n",
      "grey       6590\n",
      "beige      4324\n",
      "yellow     2173\n",
      "gold       1947\n",
      "orange     1741\n",
      "violet      811\n",
      "bronze      235\n",
      "Name: color_slug, dtype: int64\n",
      "\n",
      "\n",
      "************************\n",
      "Unique count for column:stk_year\n",
      "\n",
      "None      1308651\n",
      "2018.0     169746\n",
      "2017.0     142800\n",
      "2016.0      98793\n",
      "2019.0      41482\n",
      "           ...   \n",
      "5015.0          1\n",
      "7289            1\n",
      "4999.0          1\n",
      "9325            1\n",
      "6086            1\n",
      "Name: stk_year, Length: 298, dtype: int64\n",
      "\n",
      "\n",
      "************************\n",
      "Unique count for column:transmission\n",
      "\n",
      "man     2021990\n",
      "auto     789292\n",
      "Name: transmission, dtype: int64\n",
      "\n",
      "\n",
      "************************\n",
      "Unique count for column:door_count\n",
      "\n",
      "5.0     777522\n",
      "4       636217\n",
      "4.0     494524\n",
      "None    475693\n",
      "2       164077\n",
      "2.0     143747\n",
      "5       116562\n",
      "3.0     106527\n",
      "3        14066\n",
      "0.0       8010\n",
      "6.0        906\n",
      "6          347\n",
      "1.0        259\n",
      "7.0         41\n",
      "1           14\n",
      "55.0         9\n",
      "9.0          4\n",
      "58.0         3\n",
      "8.0          3\n",
      "7            2\n",
      "54.0         1\n",
      "49.0         1\n",
      "22.0         1\n",
      "17.0         1\n",
      "77.0         1\n",
      "45.0         1\n",
      "Name: door_count, dtype: int64\n",
      "\n",
      "\n",
      "************************\n",
      "Unique count for column:seat_count\n",
      "\n",
      "5.0      1084557\n",
      "5         683311\n",
      "None      537610\n",
      "4.0       147294\n",
      "4          97503\n",
      "          ...   \n",
      "515.0          1\n",
      "517.0          1\n",
      "74             1\n",
      "255            1\n",
      "43.0           1\n",
      "Name: seat_count, Length: 88, dtype: int64\n",
      "\n",
      "\n",
      "************************\n",
      "Unique count for column:fuel_type\n",
      "\n",
      "gasoline    902222\n",
      "diesel      768207\n",
      "electric     26350\n",
      "lpg           7403\n",
      "cng           1124\n",
      "Name: fuel_type, dtype: int64\n",
      "\n",
      "\n",
      "************************\n",
      "Unique count for column:date_created\n",
      "\n",
      "2015-12-02 22:31:04.187308+00    1\n",
      "2016-03-04 07:04:55.949584+00    1\n",
      "2015-12-13 15:05:44.079373+00    1\n",
      "2016-02-19 02:10:54.377164+00    1\n",
      "2016-02-23 02:00:56.696293+00    1\n",
      "                                ..\n",
      "2015-12-11 03:50:27.441789+00    1\n",
      "2015-12-21 15:56:02.77655+00     1\n",
      "2015-12-14 03:07:09.042726+00    1\n",
      "2016-02-22 18:19:00.961231+00    1\n",
      "2016-10-22 21:49:13.156452+00    1\n",
      "Name: date_created, Length: 3552912, dtype: int64\n",
      "\n",
      "\n",
      "************************\n",
      "Unique count for column:date_last_seen\n",
      "\n",
      "2016-01-27 20:40:15.46361+00     197856\n",
      "2016-07-03 17:30:26.66979+00          1\n",
      "2016-07-03 17:01:50.779842+00         1\n",
      "2016-02-10 20:16:56.610473+00         1\n",
      "2016-07-03 19:17:08.230259+00         1\n",
      "                                  ...  \n",
      "2016-01-20 08:18:37.639952+00         1\n",
      "2016-11-02 06:17:39.356318+00         1\n",
      "2016-07-03 18:28:43.209101+00         1\n",
      "2016-01-19 02:05:02.896355+00         1\n",
      "2015-12-14 06:47:58.615311+00         1\n",
      "Name: date_last_seen, Length: 3355057, dtype: int64\n"
     ]
    }
   ],
   "source": [
    "#Lets watch each category count of the categorical variables\n",
    "for cols in data:\n",
    "    if data[cols].dtypes == 'object':\n",
    "        \n",
    "        print(\"\\n\")\n",
    "        print(\"************************\")\n",
    "        print(\"Unique count for column:{}\\n\".format(cols))\n",
    "        \n",
    "        print(data[cols].value_counts())"
   ]
  },
  {
   "cell_type": "markdown",
   "metadata": {},
   "source": [
    "data_created and data_last_seen column contains data and time of data. Let's just keep date. We willn't using time of data. So let's only keep data."
   ]
  },
  {
   "cell_type": "code",
   "execution_count": 9,
   "metadata": {},
   "outputs": [],
   "source": [
    "data['date_created'] = data['date_created'].apply(lambda x: x.split()[0])\n",
    "data['date_last_seen'] = data['date_last_seen'].apply(lambda x: x.split()[0])\n"
   ]
  },
  {
   "cell_type": "code",
   "execution_count": 10,
   "metadata": {},
   "outputs": [
    {
     "data": {
      "text/plain": [
       "0          2015-11-14\n",
       "1          2015-11-14\n",
       "2          2015-11-14\n",
       "3          2015-11-14\n",
       "4          2015-11-14\n",
       "              ...    \n",
       "3552907    2017-03-16\n",
       "3552908    2017-03-16\n",
       "3552909    2017-03-16\n",
       "3552910    2017-03-16\n",
       "3552911    2017-03-16\n",
       "Name: date_created, Length: 3552912, dtype: object"
      ]
     },
     "execution_count": 10,
     "metadata": {},
     "output_type": "execute_result"
    }
   ],
   "source": [
    "data['date_created']"
   ]
  },
  {
   "cell_type": "markdown",
   "metadata": {},
   "source": [
    "Let's see scatter plot of date_last_seen and euro price"
   ]
  },
  {
   "cell_type": "code",
   "execution_count": 12,
   "metadata": {},
   "outputs": [
    {
     "data": {
      "text/plain": [
       "<matplotlib.collections.PathCollection at 0x7f28b98a2f60>"
      ]
     },
     "execution_count": 12,
     "metadata": {},
     "output_type": "execute_result"
    },
    {
     "data": {
      "image/png": "[encoded data removed]",
      "text/plain": [
       "<Figure size 2880x576 with 1 Axes>"
      ]
     },
     "metadata": {},
     "output_type": "display_data"
    }
   ],
   "source": [
    "import matplotlib\n",
    "b = data[['date_last_seen','price_eur']]\n",
    "b['date_last_seen'] = pd.to_datetime(b['date_last_seen'])\n",
    "matplotlib.rcParams['figure.figsize']= (40,8)\n",
    "plt.scatter(b['date_last_seen'], b['price_eur'])"
   ]
  },
  {
   "cell_type": "markdown",
   "metadata": {},
   "source": [
    "### Working with missing values"
   ]
  },
  {
   "cell_type": "markdown",
   "metadata": {},
   "source": [
    "Let's drop `color_slug` because it contains more missing values. Also, let's make assumption that it wont hamper to our model"
   ]
  },
  {
   "cell_type": "code",
   "execution_count": 14,
   "metadata": {},
   "outputs": [
    {
     "data": {
      "text/html": [
       "<div>\n",
       "<style scoped>\n",
       "    .dataframe tbody tr th:only-of-type {\n",
       "        vertical-align: middle;\n",
       "    }\n",
       "\n",
       "    .dataframe tbody tr th {\n",
       "        vertical-align: top;\n",
       "    }\n",
       "\n",
       "    .dataframe thead th {\n",
       "        text-align: right;\n",
       "    }\n",
       "</style>\n",
       "<table border=\"1\" class=\"dataframe\">\n",
       "  <thead>\n",
       "    <tr style=\"text-align: right;\">\n",
       "      <th></th>\n",
       "      <th>maker</th>\n",
       "      <th>model</th>\n",
       "      <th>mileage</th>\n",
       "      <th>manufacture_year</th>\n",
       "      <th>engine_displacement</th>\n",
       "      <th>engine_power</th>\n",
       "      <th>body_type</th>\n",
       "      <th>stk_year</th>\n",
       "      <th>transmission</th>\n",
       "      <th>door_count</th>\n",
       "      <th>seat_count</th>\n",
       "      <th>fuel_type</th>\n",
       "      <th>date_created</th>\n",
       "      <th>date_last_seen</th>\n",
       "      <th>price_eur</th>\n",
       "    </tr>\n",
       "  </thead>\n",
       "  <tbody>\n",
       "    <tr>\n",
       "      <th>0</th>\n",
       "      <td>ford</td>\n",
       "      <td>galaxy</td>\n",
       "      <td>151000.0</td>\n",
       "      <td>2011.0</td>\n",
       "      <td>2000.0</td>\n",
       "      <td>103.0</td>\n",
       "      <td>NaN</td>\n",
       "      <td>None</td>\n",
       "      <td>man</td>\n",
       "      <td>5</td>\n",
       "      <td>7</td>\n",
       "      <td>diesel</td>\n",
       "      <td>2015-11-14</td>\n",
       "      <td>2016-01-27</td>\n",
       "      <td>10584.75</td>\n",
       "    </tr>\n",
       "    <tr>\n",
       "      <th>1</th>\n",
       "      <td>skoda</td>\n",
       "      <td>octavia</td>\n",
       "      <td>143476.0</td>\n",
       "      <td>2012.0</td>\n",
       "      <td>2000.0</td>\n",
       "      <td>81.0</td>\n",
       "      <td>NaN</td>\n",
       "      <td>None</td>\n",
       "      <td>man</td>\n",
       "      <td>5</td>\n",
       "      <td>5</td>\n",
       "      <td>diesel</td>\n",
       "      <td>2015-11-14</td>\n",
       "      <td>2016-01-27</td>\n",
       "      <td>8882.31</td>\n",
       "    </tr>\n",
       "    <tr>\n",
       "      <th>2</th>\n",
       "      <td>bmw</td>\n",
       "      <td>NaN</td>\n",
       "      <td>97676.0</td>\n",
       "      <td>2010.0</td>\n",
       "      <td>1995.0</td>\n",
       "      <td>85.0</td>\n",
       "      <td>NaN</td>\n",
       "      <td>None</td>\n",
       "      <td>man</td>\n",
       "      <td>5</td>\n",
       "      <td>5</td>\n",
       "      <td>diesel</td>\n",
       "      <td>2015-11-14</td>\n",
       "      <td>2016-01-27</td>\n",
       "      <td>12065.06</td>\n",
       "    </tr>\n",
       "    <tr>\n",
       "      <th>3</th>\n",
       "      <td>skoda</td>\n",
       "      <td>fabia</td>\n",
       "      <td>111970.0</td>\n",
       "      <td>2004.0</td>\n",
       "      <td>1200.0</td>\n",
       "      <td>47.0</td>\n",
       "      <td>NaN</td>\n",
       "      <td>None</td>\n",
       "      <td>man</td>\n",
       "      <td>5</td>\n",
       "      <td>5</td>\n",
       "      <td>gasoline</td>\n",
       "      <td>2015-11-14</td>\n",
       "      <td>2016-01-27</td>\n",
       "      <td>2960.77</td>\n",
       "    </tr>\n",
       "    <tr>\n",
       "      <th>4</th>\n",
       "      <td>skoda</td>\n",
       "      <td>fabia</td>\n",
       "      <td>128886.0</td>\n",
       "      <td>2004.0</td>\n",
       "      <td>1200.0</td>\n",
       "      <td>47.0</td>\n",
       "      <td>NaN</td>\n",
       "      <td>None</td>\n",
       "      <td>man</td>\n",
       "      <td>5</td>\n",
       "      <td>5</td>\n",
       "      <td>gasoline</td>\n",
       "      <td>2015-11-14</td>\n",
       "      <td>2016-01-27</td>\n",
       "      <td>2738.71</td>\n",
       "    </tr>\n",
       "  </tbody>\n",
       "</table>\n",
       "</div>"
      ],
      "text/plain": [
       "   maker    model   mileage  manufacture_year  engine_displacement  \\\n",
       "0   ford   galaxy  151000.0            2011.0               2000.0   \n",
       "1  skoda  octavia  143476.0            2012.0               2000.0   \n",
       "2    bmw      NaN   97676.0            2010.0               1995.0   \n",
       "3  skoda    fabia  111970.0            2004.0               1200.0   \n",
       "4  skoda    fabia  128886.0            2004.0               1200.0   \n",
       "\n",
       "   engine_power body_type stk_year transmission door_count seat_count  \\\n",
       "0         103.0       NaN     None          man          5          7   \n",
       "1          81.0       NaN     None          man          5          5   \n",
       "2          85.0       NaN     None          man          5          5   \n",
       "3          47.0       NaN     None          man          5          5   \n",
       "4          47.0       NaN     None          man          5          5   \n",
       "\n",
       "  fuel_type date_created date_last_seen  price_eur  \n",
       "0    diesel   2015-11-14     2016-01-27   10584.75  \n",
       "1    diesel   2015-11-14     2016-01-27    8882.31  \n",
       "2    diesel   2015-11-14     2016-01-27   12065.06  \n",
       "3  gasoline   2015-11-14     2016-01-27    2960.77  \n",
       "4  gasoline   2015-11-14     2016-01-27    2738.71  "
      ]
     },
     "execution_count": 14,
     "metadata": {},
     "output_type": "execute_result"
    }
   ],
   "source": [
    "new_data = data.drop(['color_slug'], axis=1)\n",
    "new_data.head()"
   ]
  },
  {
   "cell_type": "markdown",
   "metadata": {},
   "source": [
    "Let's check variable `door_count` and `seat_count`"
   ]
  },
  {
   "cell_type": "code",
   "execution_count": 16,
   "metadata": {},
   "outputs": [
    {
     "name": "stdout",
     "output_type": "stream",
     "text": [
      "Unique values of door_Count: ['5' '3' '4' 'None' '2' '6' '1' '7' nan 5.0 4.0 3.0 2.0 6.0 1.0 9.0 7.0\n",
      " 8.0 77.0 58.0 54.0 0.0 55.0 22.0 45.0 17.0 49.0]\n",
      "************************************\n",
      "Unique values of seat_Count: ['7' '5' '4' 'None' '6' '9' '8' '2' '3' '1' '18' '20' '10' '11' '15' '12'\n",
      " '16' '14' '50' '17' '74' '65' '19' '54' '13' '27' '45' '24' '56' '22'\n",
      " '255' '23' '57' '25' nan 5.0 3.0 4.0 2.0 7.0 8.0 6.0 9.0 23.0 1.0 51.0\n",
      " 12.0 15.0 14.0 55.0 19.0 61.0 21.0 13.0 17.0 20.0 10.0 11.0 18.0 45.0\n",
      " 27.0 53.0 26.0 56.0 58.0 25.0 30.0 36.0 54.0 24.0 16.0 57.0 74.0 50.0 0.0\n",
      " 29.0 52.0 32.0 44.0 512.0 33.0 515.0 59.0 85.0 517.0 81.0 43.0 49.0 138.0]\n"
     ]
    }
   ],
   "source": [
    "\n",
    "print(\"Unique values of door_Count:\", new_data['door_count'].unique())\n",
    "print(\"************************************\")\n",
    "print(\"Unique values of seat_Count:\", new_data['seat_count'].unique())"
   ]
  },
  {
   "cell_type": "markdown",
   "metadata": {},
   "source": [
    "We got 'None' as one unique value in both variables. That may the mistake during entry. So, we will do \n",
    "\n",
    "1. Change 'None' value to nan\n",
    "2. Then convert dtype from object to float i.e numeric."
   ]
  },
  {
   "cell_type": "code",
   "execution_count": 17,
   "metadata": {},
   "outputs": [],
   "source": [
    "new_data['door_count'] = new_data['door_count'].replace('None', np.nan).astype(float)\n",
    "new_data['seat_count'] = new_data['seat_count'].replace('None', np.nan).astype(float)"
   ]
  },
  {
   "cell_type": "markdown",
   "metadata": {},
   "source": [
    "door_count medina grda 4 , mode garda 5. seat_count both ma 5 so median nai garam."
   ]
  },
  {
   "cell_type": "code",
   "execution_count": 19,
   "metadata": {},
   "outputs": [],
   "source": [
    "new_data['seat_count'].fillna(new_data['seat_count'].mode()[0], inplace=True)\n",
    "new_data['door_count'].fillna(new_data['door_count'].mode()[0], inplace=True)"
   ]
  },
  {
   "cell_type": "code",
   "execution_count": 20,
   "metadata": {
    "scrolled": true
   },
   "outputs": [
    {
     "data": {
      "text/html": [
       "<div>\n",
       "<style scoped>\n",
       "    .dataframe tbody tr th:only-of-type {\n",
       "        vertical-align: middle;\n",
       "    }\n",
       "\n",
       "    .dataframe tbody tr th {\n",
       "        vertical-align: top;\n",
       "    }\n",
       "\n",
       "    .dataframe thead th {\n",
       "        text-align: right;\n",
       "    }\n",
       "</style>\n",
       "<table border=\"1\" class=\"dataframe\">\n",
       "  <thead>\n",
       "    <tr style=\"text-align: right;\">\n",
       "      <th></th>\n",
       "      <th>mileage</th>\n",
       "      <th>manufacture_year</th>\n",
       "      <th>engine_displacement</th>\n",
       "      <th>engine_power</th>\n",
       "      <th>door_count</th>\n",
       "      <th>seat_count</th>\n",
       "      <th>price_eur</th>\n",
       "    </tr>\n",
       "  </thead>\n",
       "  <tbody>\n",
       "    <tr>\n",
       "      <th>count</th>\n",
       "      <td>3.190328e+06</td>\n",
       "      <td>3.182334e+06</td>\n",
       "      <td>2.809498e+06</td>\n",
       "      <td>2.998035e+06</td>\n",
       "      <td>3.552912e+06</td>\n",
       "      <td>3.552912e+06</td>\n",
       "      <td>3.552912e+06</td>\n",
       "    </tr>\n",
       "    <tr>\n",
       "      <th>mean</th>\n",
       "      <td>1.158140e+05</td>\n",
       "      <td>2.000871e+03</td>\n",
       "      <td>2.043958e+03</td>\n",
       "      <td>9.846796e+01</td>\n",
       "      <td>4.036171e+00</td>\n",
       "      <td>4.916900e+00</td>\n",
       "      <td>1.625812e+06</td>\n",
       "    </tr>\n",
       "    <tr>\n",
       "      <th>std</th>\n",
       "      <td>3.422508e+05</td>\n",
       "      <td>8.172588e+01</td>\n",
       "      <td>1.973958e+03</td>\n",
       "      <td>4.907309e+01</td>\n",
       "      <td>8.255923e-01</td>\n",
       "      <td>9.703929e-01</td>\n",
       "      <td>2.025622e+09</td>\n",
       "    </tr>\n",
       "    <tr>\n",
       "      <th>min</th>\n",
       "      <td>0.000000e+00</td>\n",
       "      <td>0.000000e+00</td>\n",
       "      <td>0.000000e+00</td>\n",
       "      <td>1.000000e+00</td>\n",
       "      <td>0.000000e+00</td>\n",
       "      <td>0.000000e+00</td>\n",
       "      <td>4.000000e-02</td>\n",
       "    </tr>\n",
       "    <tr>\n",
       "      <th>0%</th>\n",
       "      <td>0.000000e+00</td>\n",
       "      <td>0.000000e+00</td>\n",
       "      <td>0.000000e+00</td>\n",
       "      <td>1.000000e+00</td>\n",
       "      <td>0.000000e+00</td>\n",
       "      <td>0.000000e+00</td>\n",
       "      <td>4.000000e-02</td>\n",
       "    </tr>\n",
       "    <tr>\n",
       "      <th>10%</th>\n",
       "      <td>1.000000e+01</td>\n",
       "      <td>2.000000e+03</td>\n",
       "      <td>1.198000e+03</td>\n",
       "      <td>5.200000e+01</td>\n",
       "      <td>3.000000e+00</td>\n",
       "      <td>4.000000e+00</td>\n",
       "      <td>1.295340e+03</td>\n",
       "    </tr>\n",
       "    <tr>\n",
       "      <th>20%</th>\n",
       "      <td>1.000000e+04</td>\n",
       "      <td>2.003000e+03</td>\n",
       "      <td>1.390000e+03</td>\n",
       "      <td>6.600000e+01</td>\n",
       "      <td>4.000000e+00</td>\n",
       "      <td>5.000000e+00</td>\n",
       "      <td>1.295340e+03</td>\n",
       "    </tr>\n",
       "    <tr>\n",
       "      <th>30%</th>\n",
       "      <td>2.700000e+04</td>\n",
       "      <td>2.005000e+03</td>\n",
       "      <td>1.560000e+03</td>\n",
       "      <td>7.400000e+01</td>\n",
       "      <td>4.000000e+00</td>\n",
       "      <td>5.000000e+00</td>\n",
       "      <td>2.183570e+03</td>\n",
       "    </tr>\n",
       "    <tr>\n",
       "      <th>40%</th>\n",
       "      <td>5.690000e+04</td>\n",
       "      <td>2.007000e+03</td>\n",
       "      <td>1.598000e+03</td>\n",
       "      <td>8.000000e+01</td>\n",
       "      <td>4.000000e+00</td>\n",
       "      <td>5.000000e+00</td>\n",
       "      <td>4.441150e+03</td>\n",
       "    </tr>\n",
       "    <tr>\n",
       "      <th>50%</th>\n",
       "      <td>8.641500e+04</td>\n",
       "      <td>2.009000e+03</td>\n",
       "      <td>1.798000e+03</td>\n",
       "      <td>8.600000e+01</td>\n",
       "      <td>4.000000e+00</td>\n",
       "      <td>5.000000e+00</td>\n",
       "      <td>7.364910e+03</td>\n",
       "    </tr>\n",
       "    <tr>\n",
       "      <th>60%</th>\n",
       "      <td>1.140000e+05</td>\n",
       "      <td>2.011000e+03</td>\n",
       "      <td>1.968000e+03</td>\n",
       "      <td>1.000000e+02</td>\n",
       "      <td>4.000000e+00</td>\n",
       "      <td>5.000000e+00</td>\n",
       "      <td>1.055376e+04</td>\n",
       "    </tr>\n",
       "    <tr>\n",
       "      <th>70%</th>\n",
       "      <td>1.433450e+05</td>\n",
       "      <td>2.012000e+03</td>\n",
       "      <td>1.995000e+03</td>\n",
       "      <td>1.080000e+02</td>\n",
       "      <td>4.000000e+00</td>\n",
       "      <td>5.000000e+00</td>\n",
       "      <td>1.418708e+04</td>\n",
       "    </tr>\n",
       "    <tr>\n",
       "      <th>80%</th>\n",
       "      <td>1.746370e+05</td>\n",
       "      <td>2.014000e+03</td>\n",
       "      <td>2.143000e+03</td>\n",
       "      <td>1.250000e+02</td>\n",
       "      <td>5.000000e+00</td>\n",
       "      <td>5.000000e+00</td>\n",
       "      <td>1.879641e+04</td>\n",
       "    </tr>\n",
       "    <tr>\n",
       "      <th>90%</th>\n",
       "      <td>2.170000e+05</td>\n",
       "      <td>2.015000e+03</td>\n",
       "      <td>2.967000e+03</td>\n",
       "      <td>1.500000e+02</td>\n",
       "      <td>5.000000e+00</td>\n",
       "      <td>5.000000e+00</td>\n",
       "      <td>2.599000e+04</td>\n",
       "    </tr>\n",
       "    <tr>\n",
       "      <th>100%</th>\n",
       "      <td>9.999999e+06</td>\n",
       "      <td>2.017000e+03</td>\n",
       "      <td>3.276700e+04</td>\n",
       "      <td>2.237000e+03</td>\n",
       "      <td>7.700000e+01</td>\n",
       "      <td>5.170000e+02</td>\n",
       "      <td>2.706149e+12</td>\n",
       "    </tr>\n",
       "    <tr>\n",
       "      <th>max</th>\n",
       "      <td>9.999999e+06</td>\n",
       "      <td>2.017000e+03</td>\n",
       "      <td>3.276700e+04</td>\n",
       "      <td>2.237000e+03</td>\n",
       "      <td>7.700000e+01</td>\n",
       "      <td>5.170000e+02</td>\n",
       "      <td>2.706149e+12</td>\n",
       "    </tr>\n",
       "  </tbody>\n",
       "</table>\n",
       "</div>"
      ],
      "text/plain": [
       "            mileage  manufacture_year  engine_displacement  engine_power  \\\n",
       "count  3.190328e+06      3.182334e+06         2.809498e+06  2.998035e+06   \n",
       "mean   1.158140e+05      2.000871e+03         2.043958e+03  9.846796e+01   \n",
       "std    3.422508e+05      8.172588e+01         1.973958e+03  4.907309e+01   \n",
       "min    0.000000e+00      0.000000e+00         0.000000e+00  1.000000e+00   \n",
       "0%     0.000000e+00      0.000000e+00         0.000000e+00  1.000000e+00   \n",
       "10%    1.000000e+01      2.000000e+03         1.198000e+03  5.200000e+01   \n",
       "20%    1.000000e+04      2.003000e+03         1.390000e+03  6.600000e+01   \n",
       "30%    2.700000e+04      2.005000e+03         1.560000e+03  7.400000e+01   \n",
       "40%    5.690000e+04      2.007000e+03         1.598000e+03  8.000000e+01   \n",
       "50%    8.641500e+04      2.009000e+03         1.798000e+03  8.600000e+01   \n",
       "60%    1.140000e+05      2.011000e+03         1.968000e+03  1.000000e+02   \n",
       "70%    1.433450e+05      2.012000e+03         1.995000e+03  1.080000e+02   \n",
       "80%    1.746370e+05      2.014000e+03         2.143000e+03  1.250000e+02   \n",
       "90%    2.170000e+05      2.015000e+03         2.967000e+03  1.500000e+02   \n",
       "100%   9.999999e+06      2.017000e+03         3.276700e+04  2.237000e+03   \n",
       "max    9.999999e+06      2.017000e+03         3.276700e+04  2.237000e+03   \n",
       "\n",
       "         door_count    seat_count     price_eur  \n",
       "count  3.552912e+06  3.552912e+06  3.552912e+06  \n",
       "mean   4.036171e+00  4.916900e+00  1.625812e+06  \n",
       "std    8.255923e-01  9.703929e-01  2.025622e+09  \n",
       "min    0.000000e+00  0.000000e+00  4.000000e-02  \n",
       "0%     0.000000e+00  0.000000e+00  4.000000e-02  \n",
       "10%    3.000000e+00  4.000000e+00  1.295340e+03  \n",
       "20%    4.000000e+00  5.000000e+00  1.295340e+03  \n",
       "30%    4.000000e+00  5.000000e+00  2.183570e+03  \n",
       "40%    4.000000e+00  5.000000e+00  4.441150e+03  \n",
       "50%    4.000000e+00  5.000000e+00  7.364910e+03  \n",
       "60%    4.000000e+00  5.000000e+00  1.055376e+04  \n",
       "70%    4.000000e+00  5.000000e+00  1.418708e+04  \n",
       "80%    5.000000e+00  5.000000e+00  1.879641e+04  \n",
       "90%    5.000000e+00  5.000000e+00  2.599000e+04  \n",
       "100%   7.700000e+01  5.170000e+02  2.706149e+12  \n",
       "max    7.700000e+01  5.170000e+02  2.706149e+12  "
      ]
     },
     "execution_count": 20,
     "metadata": {},
     "output_type": "execute_result"
    }
   ],
   "source": [
    "# Statistics of numerical data\n",
    "new_data.describe(percentiles = [0, 0.1, 0.2, 0.3, 0.4, 0.5, 0.6,0.7, 0.8, 0.9,1])\n",
    "# data.describe()"
   ]
  },
  {
   "cell_type": "markdown",
   "metadata": {},
   "source": [
    "This statistics show that data contains lots of outliers. \n",
    "For example, on 9th and 10th quantile, value of `door_count` and `seat_count` are vast different.\n",
    "\n",
    "For `transmission` variable"
   ]
  },
  {
   "cell_type": "code",
   "execution_count": 21,
   "metadata": {},
   "outputs": [
    {
     "data": {
      "text/plain": [
       "'man'"
      ]
     },
     "execution_count": 21,
     "metadata": {},
     "output_type": "execute_result"
    }
   ],
   "source": [
    "new_data['transmission'].mode()[0]"
   ]
  },
  {
   "cell_type": "code",
   "execution_count": 23,
   "metadata": {},
   "outputs": [
    {
     "data": {
      "text/plain": [
       "741630"
      ]
     },
     "execution_count": 23,
     "metadata": {},
     "output_type": "execute_result"
    }
   ],
   "source": [
    "data['transmission'].isnull().sum()"
   ]
  },
  {
   "cell_type": "code",
   "execution_count": null,
   "metadata": {},
   "outputs": [],
   "source": [
    "medium_value = data.pivot_table(values = 'engine_power', \n",
    "                               index = [ 'maker', 'model'], aggfunc = np.median)\n",
    "medium_value"
   ]
  },
  {
   "cell_type": "code",
   "execution_count": null,
   "metadata": {},
   "outputs": [],
   "source": [
    "data['engine_power']= data['engine_power'].fillna(data.groupby(['maker','model'])['engine_power'].transform('median'))\n",
    "#Null value on remaining tuples\n",
    "data.apply(lambda x: sum(x.isnull()))"
   ]
  },
  {
   "cell_type": "code",
   "execution_count": null,
   "metadata": {},
   "outputs": [],
   "source": [
    "data['engine_power']= data['engine_power'].fillna(data.groupby(['model'])['engine_power'].transform('median'))\n",
    "#Null value on remaining tuples\n",
    "data.apply(lambda x: sum(x.isnull()))"
   ]
  },
  {
   "cell_type": "code",
   "execution_count": null,
   "metadata": {},
   "outputs": [],
   "source": [
    "missing = data.loc[data['engine_power'].isnull()].index\n",
    "df_1.drop(missing, inplace = True)\n",
    "print(\"Remaining no. of tuples are:\",len(df_1))\n",
    "df_1.apply(lambda x: sum(x.isnull()))"
   ]
  },
  {
   "cell_type": "code",
   "execution_count": null,
   "metadata": {},
   "outputs": [],
   "source": []
  },
  {
   "cell_type": "code",
   "execution_count": null,
   "metadata": {},
   "outputs": [],
   "source": []
  },
  {
   "cell_type": "code",
   "execution_count": null,
   "metadata": {},
   "outputs": [],
   "source": [
    "fig, ax = plt.subplots(figsize = (12,8))\n",
    "sns.distplot(data.loc[data['transmission']=='auto']['price_eur'], kde = True, hist = False, color = 'red', ax = ax)\n",
    "sns.distplot(data.loc[data['transmission']=='man']['price_eur'], kde = True, hist = False, color = 'green', ax = ax)\n",
    "a = data.fillna( value= {'transmission':'man'})\n",
    "sns.distplot(a.loc[a['transmission']=='man']['price_eur'], kde = True, hist = False, color = 'blue', ax = ax)\n"
   ]
  },
  {
   "cell_type": "code",
   "execution_count": null,
   "metadata": {},
   "outputs": [],
   "source": [
    "plt.figure(figsize = (30, 15))\n",
    "sns.catplot(x=\"body_type\", y=\"price_eur\",  data=data, )"
   ]
  },
  {
   "cell_type": "code",
   "execution_count": null,
   "metadata": {},
   "outputs": [],
   "source": [
    "# Let's define a function which for plotting price of car with respect to other columns.\n",
    "# Here we will plot total price, average price and count of occurence of sales based on particular feature of each column.\n",
    "def plot_of_price_vs_other(df, value, index, title):\n",
    "    a = data.pivot_table(values = value, index = index, aggfunc = [np.sum, np.mean, len])\n",
    "    fig, axes = plt.subplots(3,1)\n",
    "    fig.suptitle(title)\n",
    "    a['sum'].plot(kind = 'bar', ax= axes[0], title = \"Plot by total price\", figsize = (12,10), sharex = True, sharey = True)\n",
    "    a['mean'].plot(kind = 'bar', ax= axes[1], title= 'Plot by mean')\n",
    "    a['len'].plot(kind = 'bar', ax = axes[2], title = 'Plot by count')\n",
    "    \n",
    "plot_of_price_vs_other(data, 'price_eur', 'seat_count', \"Plot of seat_count_vs price\")    "
   ]
  },
  {
   "cell_type": "code",
   "execution_count": null,
   "metadata": {},
   "outputs": [],
   "source": [
    "plot_of_price_vs_other(data, 'price_eur', 'fuel_type', \"Plot of fuel_type vs price\") "
   ]
  },
  {
   "cell_type": "code",
   "execution_count": null,
   "metadata": {},
   "outputs": [],
   "source": [
    "plot_of_price_vs_other(data, 'price_eur', 'body_type', \"Plot of body_type vs price\") "
   ]
  },
  {
   "cell_type": "code",
   "execution_count": null,
   "metadata": {},
   "outputs": [],
   "source": [
    "plot_of_price_vs_other(data, 'price_eur', 'model', \"Plot of model vs price\") "
   ]
  },
  {
   "cell_type": "code",
   "execution_count": null,
   "metadata": {},
   "outputs": [],
   "source": []
  },
  {
   "cell_type": "code",
   "execution_count": null,
   "metadata": {},
   "outputs": [],
   "source": []
  },
  {
   "cell_type": "markdown",
   "metadata": {},
   "source": [
    "### Correlation\n",
    "\n",
    "Let's see correlation plot between numerical variables"
   ]
  },
  {
   "cell_type": "code",
   "execution_count": null,
   "metadata": {},
   "outputs": [],
   "source": [
    "correlation = data.corr()\n",
    "sns.heatmap(data = correlation, annot = True)"
   ]
  },
  {
   "cell_type": "markdown",
   "metadata": {},
   "source": [
    "Let's see how other features are correlated with our desired output feature: `price_eur`.\n"
   ]
  },
  {
   "cell_type": "code",
   "execution_count": null,
   "metadata": {},
   "outputs": [],
   "source": [
    "correlation['price_eur'].sort_values(ascending = False)"
   ]
  },
  {
   "cell_type": "code",
   "execution_count": null,
   "metadata": {},
   "outputs": [],
   "source": [
    "fig, ax = plt.subplots(7,1, figsize = (18, 26))\n",
    "fig.suptitle(\"Histogram plot of different numerical feature.\")\n",
    "data.hist(bins = 'auto', ax = ax, grid = False , color='#19bf82')"
   ]
  },
  {
   "cell_type": "code",
   "execution_count": null,
   "metadata": {},
   "outputs": [],
   "source": []
  },
  {
   "cell_type": "code",
   "execution_count": null,
   "metadata": {},
   "outputs": [],
   "source": []
  },
  {
   "cell_type": "code",
   "execution_count": null,
   "metadata": {},
   "outputs": [],
   "source": []
  },
  {
   "cell_type": "code",
   "execution_count": null,
   "metadata": {},
   "outputs": [],
   "source": [
    "data.drop(['date_created', 'date_last_seen', 'color_slug'], axis=1, inplace=True)"
   ]
  },
  {
   "cell_type": "code",
   "execution_count": null,
   "metadata": {},
   "outputs": [],
   "source": [
    "data['seat_count'].unique()\n",
    "# data.seat_count.value_counts"
   ]
  },
  {
   "cell_type": "code",
   "execution_count": null,
   "metadata": {},
   "outputs": [],
   "source": [
    "data['door_count'] = data['door_count'].replace('None', np.nan).astype(float)\n",
    "data['seat_count'] = data['seat_count'].replace('None', np.nan).astype(float)"
   ]
  },
  {
   "cell_type": "code",
   "execution_count": null,
   "metadata": {},
   "outputs": [],
   "source": [
    "data['maker'].isnull().sum()"
   ]
  },
  {
   "cell_type": "markdown",
   "metadata": {},
   "source": [
    "door_count medina grda 4 , mode garda 5. seat_count both ma 5 so median nai garam."
   ]
  },
  {
   "cell_type": "code",
   "execution_count": null,
   "metadata": {},
   "outputs": [],
   "source": [
    "data['seat_count'].fillna(data['seat_count'].mode()[0], inplace=True)\n",
    "data['door_count'].fillna(data['door_count'].mode()[0], inplace=True)"
   ]
  },
  {
   "cell_type": "markdown",
   "metadata": {},
   "source": [
    "Univariate Plot of variables seat and door count"
   ]
  },
  {
   "cell_type": "code",
   "execution_count": null,
   "metadata": {},
   "outputs": [],
   "source": [
    "data.seat_count.hist()\n"
   ]
  },
  {
   "cell_type": "code",
   "execution_count": null,
   "metadata": {},
   "outputs": [],
   "source": [
    "data.door_count.hist()"
   ]
  },
  {
   "cell_type": "code",
   "execution_count": null,
   "metadata": {},
   "outputs": [],
   "source": [
    "data.mileage"
   ]
  },
  {
   "cell_type": "code",
   "execution_count": null,
   "metadata": {},
   "outputs": [],
   "source": [
    "data[\"mileage\"] = data.groupby(\"maker\")['mileage'].transform\n",
    "(lambda x: x.fillna(x.median()))\n",
    "data[\"engine_power\"] = data.groupby(\"maker\")['engine_power'].transform\n",
    "(lambda x: x.fillna(x.median()))"
   ]
  },
  {
   "cell_type": "code",
   "execution_count": null,
   "metadata": {},
   "outputs": [],
   "source": [
    "data.isnull().mean()"
   ]
  },
  {
   "cell_type": "code",
   "execution_count": null,
   "metadata": {},
   "outputs": [],
   "source": []
  },
  {
   "cell_type": "code",
   "execution_count": null,
   "metadata": {},
   "outputs": [],
   "source": []
  },
  {
   "cell_type": "code",
   "execution_count": null,
   "metadata": {},
   "outputs": [],
   "source": [
    "import missingno as mno"
   ]
  },
  {
   "cell_type": "code",
   "execution_count": null,
   "metadata": {},
   "outputs": [],
   "source": [
    "mno.matrix(df, figsize=(20,6))"
   ]
  },
  {
   "cell_type": "code",
   "execution_count": null,
   "metadata": {},
   "outputs": [],
   "source": [
    "df['door_count'].unique()"
   ]
  },
  {
   "cell_type": "code",
   "execution_count": null,
   "metadata": {},
   "outputs": [],
   "source": [
    "df['door_count'].replace('None', 0, inplace=True)"
   ]
  },
  {
   "cell_type": "code",
   "execution_count": null,
   "metadata": {},
   "outputs": [],
   "source": [
    "df['door_count'] = df['door_count'].astype(float)"
   ]
  },
  {
   "cell_type": "code",
   "execution_count": null,
   "metadata": {},
   "outputs": [],
   "source": [
    "df['maker'].fillna(df['maker'].mode()[0], inplace=True)\n"
   ]
  },
  {
   "cell_type": "code",
   "execution_count": null,
   "metadata": {},
   "outputs": [],
   "source": [
    "missing_columns = ['mileage', 'manufacture_year', 'engine_power',\n",
    "                  'door_count']"
   ]
  },
  {
   "cell_type": "code",
   "execution_count": null,
   "metadata": {},
   "outputs": [],
   "source": [
    "def random_imputation(df, feature):\n",
    "\n",
    "    number_missing = df[feature].isnull().sum()\n",
    "    observed_values = df.loc[df[feature].notnull(), feature]\n",
    "    df.loc[df[feature].isnull(), feature + '_imp'] = np.random.choice(observed_values,\n",
    "                                                                          number_missing,\n",
    "                                                                          replace = True)\n",
    "    \n",
    "    return df"
   ]
  },
  {
   "cell_type": "code",
   "execution_count": null,
   "metadata": {},
   "outputs": [],
   "source": [
    "for feature in missing_columns:\n",
    "    df[feature + '_imp'] = df[feature]\n",
    "    df = random_imputation(df, feature)"
   ]
  },
  {
   "cell_type": "code",
   "execution_count": null,
   "metadata": {},
   "outputs": [],
   "source": [
    "df = df[['mileage', 'manufacture_year', 'engine_power',\n",
    "        'price_eur', 'door_count']]\n",
    "df.head(5)"
   ]
  },
  {
   "cell_type": "code",
   "execution_count": null,
   "metadata": {},
   "outputs": [],
   "source": [
    "deter_data = pd.DataFrame(columns = [\"Det\" + name for name in missing_columns])\n",
    "\n",
    "for feature in missing_columns:\n",
    "        \n",
    "    deter_data[\"Det\" + feature] = df[feature + \"_imp\"]\n",
    "    parameters = list(set(df.columns) - set(missing_columns) - {feature + '_imp'})\n",
    "    \n",
    "    #Create a Linear Regression model to estimate the missing data\n",
    "    model = linear_model.LinearRegression()\n",
    "    model.fit(X = df[parameters], y = df[feature + '_imp'])\n",
    "    \n",
    "    #observe that I preserve the index of the missing data from the original dataframe\n",
    "    deter_data.loc[df[feature].isnull(), \"Det\" + feature] = model.predict(df[parameters])[df[feature].isnull()]\n"
   ]
  },
  {
   "cell_type": "code",
   "execution_count": null,
   "metadata": {},
   "outputs": [],
   "source": []
  },
  {
   "cell_type": "code",
   "execution_count": null,
   "metadata": {},
   "outputs": [],
   "source": [
    "df[\"manufacture_year\"] = df.groupby(\"maker\")['manufacture_year'].transform(lambda x: x.fillna(x.median()))\n",
    "df[\"mileage\"] = df.groupby(\"maker\")['mileage'].transform(lambda x: x.fillna(x.median()))\n",
    "df[\"engine_power\"] = df.groupby(\"maker\")['engine_power'].transform(lambda x: x.fillna(x.median()))\n"
   ]
  },
  {
   "cell_type": "code",
   "execution_count": null,
   "metadata": {},
   "outputs": [],
   "source": [
    "\n",
    "\n",
    "df['door_count'].unique()\n",
    "\n"
   ]
  },
  {
   "cell_type": "code",
   "execution_count": null,
   "metadata": {},
   "outputs": [],
   "source": [
    "\n",
    "\n",
    "\n"
   ]
  },
  {
   "cell_type": "code",
   "execution_count": null,
   "metadata": {},
   "outputs": [],
   "source": [
    "\n",
    "\n",
    "\n",
    "\n"
   ]
  },
  {
   "cell_type": "code",
   "execution_count": null,
   "metadata": {},
   "outputs": [],
   "source": [
    "df['door_count']"
   ]
  },
  {
   "cell_type": "code",
   "execution_count": null,
   "metadata": {},
   "outputs": [],
   "source": [
    "df['door_count'].fillna(float(int(df['door_count'].mode())), inplace=True)"
   ]
  },
  {
   "cell_type": "code",
   "execution_count": null,
   "metadata": {},
   "outputs": [],
   "source": [
    "for cols in df:\n",
    "    if df[cols].dtypes == 'object':\n",
    "        df[cols].astype('str')\n",
    "        print(df[cols].value_counts())"
   ]
  },
  {
   "cell_type": "code",
   "execution_count": null,
   "metadata": {},
   "outputs": [],
   "source": [
    "sns.boxplot(y=df['date_last_seen'])"
   ]
  },
  {
   "cell_type": "code",
   "execution_count": null,
   "metadata": {},
   "outputs": [],
   "source": [
    "df.hist(figsize=(20,15))"
   ]
  },
  {
   "cell_type": "code",
   "execution_count": null,
   "metadata": {},
   "outputs": [],
   "source": []
  }
 ],
 "metadata": {
  "kernelspec": {
   "display_name": "Python 3",
   "language": "python",
   "name": "python3"
  },
  "language_info": {
   "codemirror_mode": {
    "name": "ipython",
    "version": 3
   },
   "file_extension": ".py",
   "mimetype": "text/x-python",
   "name": "python",
   "nbconvert_exporter": "python",
   "pygments_lexer": "ipython3",
   "version": "3.6.9"
  }
 },
 "nbformat": 4,
 "nbformat_minor": 2
}
